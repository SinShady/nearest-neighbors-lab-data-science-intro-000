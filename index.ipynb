{
 "cells": [
  {
   "cell_type": "markdown",
   "metadata": {},
   "source": [
    "# Nearest Neighbors Lab"
   ]
  },
  {
   "cell_type": "markdown",
   "metadata": {},
   "source": [
    "### Introduction\n",
    "\n",
    "In this lab, you apply nearest neighbors technique to help a taxi company predict the length of their rides.  Imagine that we are hired to consult for LiftOff, a limo and taxi service that is just opening up in NYC.  Liftoff wants it's taxi drivers to target longer rides, as the longer the ride the more money it makes.  LiftOff has the following theory:\n",
    "\n",
    "* the pickup location of a taxi ride can help predict the length of the ride.  \n",
    "\n",
    "\n",
    "\n",
    "LiftOff asks us to do some analysis to write a function that will allow it to **predict the length of a taxi ride for any given location **.\n",
    "\n",
    "Our technique will be the following:\n",
    "  * **Collect** Obtain the data containing all of the taxi information, and only select the attributes of taxi trips that we need \n",
    "  * ** Explore ** Examine the attributes of our data, and plot some of our data on a map\n",
    "  * ** Train ** Write our nearest neighbors formula, and change the number of nearby trips to predict the length of a new trip\n",
    "  * ** Predict ** Use our function to predict trip lengths of new locations"
   ]
  },
  {
   "cell_type": "markdown",
   "metadata": {},
   "source": [
    "### Collect and Explore the data"
   ]
  },
  {
   "cell_type": "markdown",
   "metadata": {},
   "source": [
    "#### Collect the Data"
   ]
  },
  {
   "cell_type": "markdown",
   "metadata": {},
   "source": [
    "Luckily for us, [NYC Open Data](https://opendata.cityofnewyork.us/) collects information about NYC taxi trips and provides this data on [its website](https://data.cityofnewyork.us/Transportation/2014-Yellow-Taxi-Trip-Data/gn7m-em8n)."
   ]
  },
  {
   "cell_type": "markdown",
   "metadata": {},
   "source": [
    "![](./nyc-taxi.png)"
   ]
  },
  {
   "cell_type": "markdown",
   "metadata": {},
   "source": [
    "For your reading pleasure, the data has already been downloaded into the [trips.json](https://github.com/learn-co-curriculum/nearest-neighbors-lab/blob/master/trips.json) file in this lab which you can find here.  We'll use Python's `json` library to take the data from the `trips.json` file and store it as a variable in our notebook."
   ]
  },
  {
   "cell_type": "code",
   "execution_count": 1,
   "metadata": {},
   "outputs": [],
   "source": [
    "import json\n",
    "# First, read the file\n",
    "trips_file = open('trips.json')\n",
    "# Then, convert contents to list of dictionaries \n",
    "trips = json.load(trips_file)"
   ]
  },
  {
   "cell_type": "markdown",
   "metadata": {},
   "source": [
    "> Press shift + enter"
   ]
  },
  {
   "cell_type": "markdown",
   "metadata": {},
   "source": [
    "#### Explore the data"
   ]
  },
  {
   "cell_type": "markdown",
   "metadata": {},
   "source": [
    "The next step is to explore the data.  First, let's see how many trips we have."
   ]
  },
  {
   "cell_type": "code",
   "execution_count": 2,
   "metadata": {},
   "outputs": [
    {
     "data": {
      "text/plain": [
       "1000"
      ]
     },
     "execution_count": 2,
     "metadata": {},
     "output_type": "execute_result"
    }
   ],
   "source": [
    "len(trips)"
   ]
  },
  {
   "cell_type": "markdown",
   "metadata": {},
   "source": [
    "Not bad at all.  Now let's see what each individual trip looks like.  Each trip is a dictionary, so we can see the attributes of each trip with the `keys` function."
   ]
  },
  {
   "cell_type": "code",
   "execution_count": 3,
   "metadata": {
    "scrolled": true
   },
   "outputs": [
    {
     "data": {
      "text/plain": [
       "dict_keys(['dropoff_datetime', 'dropoff_latitude', 'dropoff_longitude', 'fare_amount', 'imp_surcharge', 'mta_tax', 'passenger_count', 'payment_type', 'pickup_datetime', 'pickup_latitude', 'pickup_longitude', 'rate_code', 'tip_amount', 'tolls_amount', 'total_amount', 'trip_distance', 'vendor_id'])"
      ]
     },
     "execution_count": 3,
     "metadata": {},
     "output_type": "execute_result"
    }
   ],
   "source": [
    "trips[0].keys()"
   ]
  },
  {
   "cell_type": "markdown",
   "metadata": {},
   "source": [
    "#### Limit our data"
   ]
  },
  {
   "cell_type": "markdown",
   "metadata": {},
   "source": [
    "Ok, now that we have explored some of our data, let's begin to think through what data is relevant for our task."
   ]
  },
  {
   "cell_type": "markdown",
   "metadata": {
    "collapsed": true
   },
   "source": [
    "Remember that our task is to **use the trip location to predict the length of a trip**.  So let's select the `pickup_latitude`, `pickup_longitude`, and `trip_distance` from each trip.  That will give us the trip location and related `trip_distance` for each trip.  Then based on these **actual** trip distances we can use nearest neighbors to predict an **expected** trip distance for a trip, provided an **actual** location."
   ]
  },
  {
   "cell_type": "markdown",
   "metadata": {},
   "source": [
    "** Add in about trip distance ** "
   ]
  },
  {
   "cell_type": "markdown",
   "metadata": {},
   "source": [
    "Write a function called `parse_trips(trips)` that returns a list of the trips with only the following attributes: \n",
    "* `trip_distance`\n",
    "* `pickup_latitude`\n",
    "* `pickup_longitude`"
   ]
  },
  {
   "cell_type": "code",
   "execution_count": 26,
   "metadata": {},
   "outputs": [],
   "source": [
    "def parse_trips(trips):\n",
    "    p_trips = []\n",
    "    for trip in trips:\n",
    "        p = {'trip_distance': trip['trip_distance'],\n",
    "        'pickup_latitude': trip['pickup_latitude'],\n",
    "        'pickup_longitude': trip['pickup_longitude']}\n",
    "        p_trips.append(p)\n",
    "    return p_trips"
   ]
  },
  {
   "cell_type": "code",
   "execution_count": 28,
   "metadata": {},
   "outputs": [
    {
     "data": {
      "text/plain": [
       "{'trip_distance': '18.379999999999999',\n",
       " 'pickup_latitude': '40.64499',\n",
       " 'pickup_longitude': '-73.781149999999997'}"
      ]
     },
     "execution_count": 28,
     "metadata": {},
     "output_type": "execute_result"
    }
   ],
   "source": [
    "parsed_trips = parse_trips(trips)\n",
    "parsed_trips and parsed_trips[0]\n",
    "\n",
    "# {'pickup_latitude': '40.64499',\n",
    "#  'pickup_longitude': '-73.78115',\n",
    "#  'trip_distance': '18.38'}"
   ]
  },
  {
   "cell_type": "markdown",
   "metadata": {},
   "source": [
    "Now, there's just one change to make.  If you look at one of the trips, all of the values are strings.  Let's change them to be floats."
   ]
  },
  {
   "cell_type": "code",
   "execution_count": 172,
   "metadata": {},
   "outputs": [],
   "source": [
    "def float_values(trips):\n",
    "    float_trips = list(map(lambda trip: {'trip_distance': float(trip['trip_distance']), 'pickup_latitude': float(trip['pickup_latitude']), 'pickup_longitude': float(trip['pickup_longitude'])}, trips))\n",
    "    return float_trips"
   ]
  },
  {
   "cell_type": "code",
   "execution_count": 173,
   "metadata": {},
   "outputs": [],
   "source": [
    "cleaned_trips = float_values(parsed_trips)"
   ]
  },
  {
   "cell_type": "code",
   "execution_count": 174,
   "metadata": {},
   "outputs": [
    {
     "data": {
      "text/plain": [
       "{'trip_distance': 18.38,\n",
       " 'pickup_latitude': 40.64499,\n",
       " 'pickup_longitude': -73.78115}"
      ]
     },
     "execution_count": 174,
     "metadata": {},
     "output_type": "execute_result"
    }
   ],
   "source": [
    "cleaned_trips[0]\n",
    "\n",
    "# {'pickup_latitude': 40.64499,\n",
    "#  'pickup_longitude': -73.78115,\n",
    "#  'trip_distance': 18.38}"
   ]
  },
  {
   "cell_type": "markdown",
   "metadata": {},
   "source": [
    "### Exploring the Data"
   ]
  },
  {
   "cell_type": "markdown",
   "metadata": {},
   "source": [
    "Now that we have paired down our data, let's get a sense of our trip data.  We can use the `folium` Python library to plot a map of Manhattan, and our data.  First we must import `folium`, and then use the `Map` function to pass through a `location`, and `zoom_start`.  If a map isn't showing up below, copy and paste the command `pip install -r requirements.txt` into your terminal to install `folium` then try again."
   ]
  },
  {
   "cell_type": "code",
   "execution_count": 59,
   "metadata": {},
   "outputs": [],
   "source": [
    "import folium\n",
    "manhattan_map = folium.Map(location=[40.7589, -73.9851], zoom_start=11)"
   ]
  },
  {
   "cell_type": "code",
   "execution_count": 60,
   "metadata": {
    "scrolled": true
   },
   "outputs": [
    {
     "data": {
      "text/html": [
       "<div style=\"width:100%;\"><div style=\"position:relative;width:100%;height:0;padding-bottom:60%;\"><iframe src=\"data:text/html;charset=utf-8;base64,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\" style=\"position:absolute;width:100%;height:100%;left:0;top:0;border:none !important;\" allowfullscreen webkitallowfullscreen mozallowfullscreen></iframe></div></div>"
      ],
      "text/plain": [
       "<folium.folium.Map at 0x7f0c6c0568d0>"
      ]
     },
     "execution_count": 60,
     "metadata": {},
     "output_type": "execute_result"
    }
   ],
   "source": [
    "manhattan_map"
   ]
  },
  {
   "cell_type": "markdown",
   "metadata": {},
   "source": [
    "Ok, now let's see how we could add a dot to mark a specific location.  We'll start with Times Square."
   ]
  },
  {
   "cell_type": "code",
   "execution_count": 61,
   "metadata": {},
   "outputs": [
    {
     "data": {
      "text/plain": [
       "<folium.vector_layers.CircleMarker at 0x7f0c37341c88>"
      ]
     },
     "execution_count": 61,
     "metadata": {},
     "output_type": "execute_result"
    }
   ],
   "source": [
    "marker = folium.CircleMarker(location = [40.7589, -73.9851], radius=10)\n",
    "marker.add_to(manhattan_map)"
   ]
  },
  {
   "cell_type": "markdown",
   "metadata": {},
   "source": [
    "Above, we first create a marker.  Then we add that circle marker to the `manhattan_map` we created earlier. "
   ]
  },
  {
   "cell_type": "code",
   "execution_count": 62,
   "metadata": {
    "scrolled": false
   },
   "outputs": [
    {
     "data": {
      "text/html": [
       "<div style=\"width:100%;\"><div style=\"position:relative;width:100%;height:0;padding-bottom:60%;\"><iframe src=\"data:text/html;charset=utf-8;base64,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\" style=\"position:absolute;width:100%;height:100%;left:0;top:0;border:none !important;\" allowfullscreen webkitallowfullscreen mozallowfullscreen></iframe></div></div>"
      ],
      "text/plain": [
       "<folium.folium.Map at 0x7f0c6c0568d0>"
      ]
     },
     "execution_count": 62,
     "metadata": {},
     "output_type": "execute_result"
    }
   ],
   "source": [
    "manhattan_map"
   ]
  },
  {
   "cell_type": "markdown",
   "metadata": {},
   "source": [
    "Do you see that blue dot near Time's Square?  That is our marker.  \n",
    "\n",
    "So now that we can plot one marker on a map, we should have a sense of how we can plot many markers on a map to display our taxi ride data.  We simply plot a map, and then we add a marker for each location of a taxi trip.\n",
    "\n",
    "Now let's write some functions to allow us to plot maps and add markers a little more easily.  "
   ]
  },
  {
   "cell_type": "markdown",
   "metadata": {},
   "source": [
    "#### Writing some map plotting functions"
   ]
  },
  {
   "cell_type": "markdown",
   "metadata": {},
   "source": [
    "As a first step towards this, note that the functions to create both a marker and map each take in a location as two element list, representing the latitude and longitude values.  Take another look:\n",
    "\n",
    "```python\n",
    "marker = folium.CircleMarker(location = [40.7589, -73.9851])\n",
    "manhattan_map = folium.Map(location=[40.7589, -73.9851])\n",
    "```\n",
    "\n",
    "So let's write a function called to create this two element list from a trip.  Write a function called `location` that  takes in a trip as an argument and returns a list where the first element is the latitude and the second is the longitude.  Remember that a location looks like the following:"
   ]
  },
  {
   "cell_type": "code",
   "execution_count": 175,
   "metadata": {},
   "outputs": [
    {
     "data": {
      "text/plain": [
       "{'pickup_latitude': 40.64499,\n",
       " 'pickup_longitude': -73.78115,\n",
       " 'trip_distance': 18.38}"
      ]
     },
     "execution_count": 175,
     "metadata": {},
     "output_type": "execute_result"
    }
   ],
   "source": [
    "first_trip = {'pickup_latitude': 40.64499, 'pickup_longitude': -73.78115,  'trip_distance': 18.38}\n",
    "first_trip"
   ]
  },
  {
   "cell_type": "code",
   "execution_count": 176,
   "metadata": {},
   "outputs": [],
   "source": [
    "def location(trip):\n",
    "    return [trip['pickup_latitude'], trip['pickup_longitude']]"
   ]
  },
  {
   "cell_type": "code",
   "execution_count": 177,
   "metadata": {},
   "outputs": [
    {
     "data": {
      "text/plain": [
       "[40.64499, -73.78115]"
      ]
     },
     "execution_count": 177,
     "metadata": {},
     "output_type": "execute_result"
    }
   ],
   "source": [
    "first_location = location(first_trip) # [40.64499, -73.78115]\n",
    "first_location # [40.64499, -73.78115]"
   ]
  },
  {
   "cell_type": "markdown",
   "metadata": {},
   "source": [
    "Ok, now that we can turn a trip into a location, let's turn a location into a marker.  Write a function called `to_marker` that takes in a location (in the form of a list) as an argument, and returns a folium `circleMarker` for that location.  The radius of the marker should always equal 6."
   ]
  },
  {
   "cell_type": "code",
   "execution_count": 200,
   "metadata": {},
   "outputs": [],
   "source": [
    "def to_marker(location):\n",
    "    return folium.CircleMarker(location, radius=6)"
   ]
  },
  {
   "cell_type": "code",
   "execution_count": 202,
   "metadata": {},
   "outputs": [
    {
     "data": {
      "text/plain": [
       "[40.7589, -73.9851]"
      ]
     },
     "execution_count": 202,
     "metadata": {},
     "output_type": "execute_result"
    }
   ],
   "source": [
    "import json\n",
    "times_square_marker = to_marker([40.7589, -73.9851])\n",
    "\n",
    "times_square_marker and times_square_marker.location # [40.7589, -73.9851]\n",
    "#times_square_marker and json.loads(times_square_marker.options)['radius'] # 6"
   ]
  },
  {
   "cell_type": "markdown",
   "metadata": {},
   "source": [
    "Ok, now that we know how to produce a single marker, let's write a function to produce lots.  We can write a function called `markers_from_trips` that takes in a list of trips, and returns a marker object for each trip.  "
   ]
  },
  {
   "cell_type": "code",
   "execution_count": 180,
   "metadata": {},
   "outputs": [],
   "source": [
    "def markers_from_trips(trips):\n",
    "    locations = list(map(lambda trip: location(trip), trips))\n",
    "    return list(map(lambda location: to_marker(location),locations))"
   ]
  },
  {
   "cell_type": "code",
   "execution_count": 181,
   "metadata": {},
   "outputs": [],
   "source": [
    "trip_markers = markers_from_trips(cleaned_trips)"
   ]
  },
  {
   "cell_type": "code",
   "execution_count": 182,
   "metadata": {},
   "outputs": [
    {
     "data": {
      "text/plain": [
       "[{'trip_distance': 18.38,\n",
       "  'pickup_latitude': 40.64499,\n",
       "  'pickup_longitude': -73.78115},\n",
       " {'trip_distance': 1.3,\n",
       "  'pickup_latitude': 40.766931,\n",
       "  'pickup_longitude': -73.982098},\n",
       " {'trip_distance': 4.5,\n",
       "  'pickup_latitude': 40.77773,\n",
       "  'pickup_longitude': -73.951902},\n",
       " {'trip_distance': 2.4,\n",
       "  'pickup_latitude': 40.795678,\n",
       "  'pickup_longitude': -73.971049}]"
      ]
     },
     "execution_count": 182,
     "metadata": {},
     "output_type": "execute_result"
    }
   ],
   "source": [
    "cleaned_trips[0:4]"
   ]
  },
  {
   "cell_type": "code",
   "execution_count": 183,
   "metadata": {},
   "outputs": [
    {
     "data": {
      "text/plain": [
       "[[40.64499, -73.78115],\n",
       " [40.766931, -73.982098],\n",
       " [40.77773, -73.951902],\n",
       " [40.795678, -73.971049]]"
      ]
     },
     "execution_count": 183,
     "metadata": {},
     "output_type": "execute_result"
    }
   ],
   "source": [
    "trip_markers and len(trip_markers) # 1000\n",
    "\n",
    "list(map(lambda marker: marker.location, trip_markers[0:4]))\n",
    "# [[40.64499, -73.78115],\n",
    "#  [40.766931, -73.982098],\n",
    "#  [40.77773, -73.951902],\n",
    "#  [40.795678, -73.971049]]"
   ]
  },
  {
   "cell_type": "markdown",
   "metadata": {},
   "source": [
    "Ok, now that we have a function that creates locations, and a function that creates markers, it is time to write a function to plot a map. \n",
    "\n",
    "Write a function called `map_from` that, provided the first argument of a list location and second argument an integer representing the `zoom_start`, returns a `folium` map the corresponding location and `zoom_start` attributes.\n",
    "\n",
    "> Hint: The following is how to write a map with folium:\n",
    "> ```python \n",
    "    folium.Map(location=location, zoom_start=zoom_amount)\n",
    "> ```"
   ]
  },
  {
   "cell_type": "code",
   "execution_count": 203,
   "metadata": {},
   "outputs": [],
   "source": [
    "def map_from(location, zoom_amount):\n",
    "    return folium.Map(location=location, zoom_start=zoom_amount)"
   ]
  },
  {
   "cell_type": "code",
   "execution_count": 204,
   "metadata": {},
   "outputs": [
    {
     "ename": "AttributeError",
     "evalue": "'Map' object has no attribute 'zoom_start'",
     "output_type": "error",
     "traceback": [
      "\u001b[0;31m\u001b[0m",
      "\u001b[0;31mAttributeError\u001b[0mTraceback (most recent call last)",
      "\u001b[0;32m<ipython-input-204-9505087fb7df>\u001b[0m in \u001b[0;36m<module>\u001b[0;34m\u001b[0m\n\u001b[1;32m      1\u001b[0m \u001b[0mtimes_square_map\u001b[0m \u001b[0;34m=\u001b[0m \u001b[0mmap_from\u001b[0m\u001b[0;34m(\u001b[0m\u001b[0;34m[\u001b[0m\u001b[0;36m40.7589\u001b[0m\u001b[0;34m,\u001b[0m \u001b[0;34m-\u001b[0m\u001b[0;36m73.9851\u001b[0m\u001b[0;34m]\u001b[0m\u001b[0;34m,\u001b[0m \u001b[0;36m15\u001b[0m\u001b[0;34m)\u001b[0m\u001b[0;34m\u001b[0m\u001b[0;34m\u001b[0m\u001b[0m\n\u001b[1;32m      2\u001b[0m \u001b[0mtimes_square_map\u001b[0m \u001b[0;32mand\u001b[0m \u001b[0mtimes_square_map\u001b[0m\u001b[0;34m.\u001b[0m\u001b[0mlocation\u001b[0m \u001b[0;31m# [40.7589, -73.9851]\u001b[0m\u001b[0;34m\u001b[0m\u001b[0;34m\u001b[0m\u001b[0m\n\u001b[0;32m----> 3\u001b[0;31m \u001b[0mtimes_square_map\u001b[0m \u001b[0;32mand\u001b[0m \u001b[0mtimes_square_map\u001b[0m\u001b[0;34m.\u001b[0m\u001b[0mzoom_start\u001b[0m \u001b[0;31m# 15\u001b[0m\u001b[0;34m\u001b[0m\u001b[0;34m\u001b[0m\u001b[0m\n\u001b[0m",
      "\u001b[0;31mAttributeError\u001b[0m: 'Map' object has no attribute 'zoom_start'"
     ]
    }
   ],
   "source": [
    "times_square_map = map_from([40.7589, -73.9851], 15)\n",
    "times_square_map and times_square_map.location # [40.7589, -73.9851]\n",
    "#times_square_map and times_square_map.zoom_start # 15"
   ]
  },
  {
   "cell_type": "code",
   "execution_count": 205,
   "metadata": {
    "scrolled": true
   },
   "outputs": [
    {
     "data": {
      "text/html": [
       "<div style=\"width:100%;\"><div style=\"position:relative;width:100%;height:0;padding-bottom:60%;\"><iframe src=\"data:text/html;charset=utf-8;base64,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\" style=\"position:absolute;width:100%;height:100%;left:0;top:0;border:none !important;\" allowfullscreen webkitallowfullscreen mozallowfullscreen></iframe></div></div>"
      ],
      "text/plain": [
       "<folium.folium.Map at 0x7f0c372194a8>"
      ]
     },
     "execution_count": 205,
     "metadata": {},
     "output_type": "execute_result"
    }
   ],
   "source": [
    "times_square_marker and times_square_marker.add_to(times_square_map)\n",
    "times_square_map"
   ]
  },
  {
   "cell_type": "markdown",
   "metadata": {},
   "source": [
    "Now that we have a marker and a map, now let's write a function that adds a lot of markers to a map.  This function should add each marker in the list to the map object then return the updated map object."
   ]
  },
  {
   "cell_type": "code",
   "execution_count": 206,
   "metadata": {},
   "outputs": [],
   "source": [
    "manhattan_map = map_from([40.7589, -73.9851], 13)"
   ]
  },
  {
   "cell_type": "code",
   "execution_count": 212,
   "metadata": {},
   "outputs": [],
   "source": [
    "def add_markers(markers, map_obj):\n",
    "    marks = markers_from_trips(markers)\n",
    "    lambda marker: map_obj.add_to(marker), mar\n",
    "    return map_obj"
   ]
  },
  {
   "cell_type": "code",
   "execution_count": 213,
   "metadata": {
    "scrolled": false
   },
   "outputs": [
    {
     "ename": "TypeError",
     "evalue": "'CircleMarker' object is not subscriptable",
     "output_type": "error",
     "traceback": [
      "\u001b[0;31m\u001b[0m",
      "\u001b[0;31mTypeError\u001b[0mTraceback (most recent call last)",
      "\u001b[0;32m<ipython-input-213-cc1a912a8e96>\u001b[0m in \u001b[0;36m<module>\u001b[0;34m\u001b[0m\n\u001b[0;32m----> 1\u001b[0;31m \u001b[0mmap_with_markers\u001b[0m \u001b[0;34m=\u001b[0m \u001b[0madd_markers\u001b[0m\u001b[0;34m(\u001b[0m\u001b[0mtrip_markers\u001b[0m\u001b[0;34m,\u001b[0m \u001b[0mmanhattan_map\u001b[0m\u001b[0;34m)\u001b[0m\u001b[0;34m\u001b[0m\u001b[0;34m\u001b[0m\u001b[0m\n\u001b[0m",
      "\u001b[0;32m<ipython-input-212-2eccd1da462f>\u001b[0m in \u001b[0;36madd_markers\u001b[0;34m(markers, map_obj)\u001b[0m\n\u001b[1;32m      1\u001b[0m \u001b[0;32mdef\u001b[0m \u001b[0madd_markers\u001b[0m\u001b[0;34m(\u001b[0m\u001b[0mmarkers\u001b[0m\u001b[0;34m,\u001b[0m \u001b[0mmap_obj\u001b[0m\u001b[0;34m)\u001b[0m\u001b[0;34m:\u001b[0m\u001b[0;34m\u001b[0m\u001b[0;34m\u001b[0m\u001b[0m\n\u001b[0;32m----> 2\u001b[0;31m     \u001b[0mmarkers_from_trips\u001b[0m\u001b[0;34m(\u001b[0m\u001b[0mmarkers\u001b[0m\u001b[0;34m)\u001b[0m\u001b[0;34m\u001b[0m\u001b[0;34m\u001b[0m\u001b[0m\n\u001b[0m\u001b[1;32m      3\u001b[0m     \u001b[0;32mreturn\u001b[0m \u001b[0mmap_obj\u001b[0m\u001b[0;34m\u001b[0m\u001b[0;34m\u001b[0m\u001b[0m\n",
      "\u001b[0;32m<ipython-input-180-0f91d3f6f72d>\u001b[0m in \u001b[0;36mmarkers_from_trips\u001b[0;34m(trips)\u001b[0m\n\u001b[1;32m      1\u001b[0m \u001b[0;32mdef\u001b[0m \u001b[0mmarkers_from_trips\u001b[0m\u001b[0;34m(\u001b[0m\u001b[0mtrips\u001b[0m\u001b[0;34m)\u001b[0m\u001b[0;34m:\u001b[0m\u001b[0;34m\u001b[0m\u001b[0;34m\u001b[0m\u001b[0m\n\u001b[0;32m----> 2\u001b[0;31m     \u001b[0mlocations\u001b[0m \u001b[0;34m=\u001b[0m \u001b[0mlist\u001b[0m\u001b[0;34m(\u001b[0m\u001b[0mmap\u001b[0m\u001b[0;34m(\u001b[0m\u001b[0;32mlambda\u001b[0m \u001b[0mtrip\u001b[0m\u001b[0;34m:\u001b[0m \u001b[0mlocation\u001b[0m\u001b[0;34m(\u001b[0m\u001b[0mtrip\u001b[0m\u001b[0;34m)\u001b[0m\u001b[0;34m,\u001b[0m \u001b[0mtrips\u001b[0m\u001b[0;34m)\u001b[0m\u001b[0;34m)\u001b[0m\u001b[0;34m\u001b[0m\u001b[0;34m\u001b[0m\u001b[0m\n\u001b[0m\u001b[1;32m      3\u001b[0m     \u001b[0;32mreturn\u001b[0m \u001b[0mlist\u001b[0m\u001b[0;34m(\u001b[0m\u001b[0mmap\u001b[0m\u001b[0;34m(\u001b[0m\u001b[0;32mlambda\u001b[0m \u001b[0mlocation\u001b[0m\u001b[0;34m:\u001b[0m \u001b[0mto_marker\u001b[0m\u001b[0;34m(\u001b[0m\u001b[0mlocation\u001b[0m\u001b[0;34m)\u001b[0m\u001b[0;34m,\u001b[0m\u001b[0mlocations\u001b[0m\u001b[0;34m)\u001b[0m\u001b[0;34m)\u001b[0m\u001b[0;34m\u001b[0m\u001b[0;34m\u001b[0m\u001b[0m\n",
      "\u001b[0;32m<ipython-input-180-0f91d3f6f72d>\u001b[0m in \u001b[0;36m<lambda>\u001b[0;34m(trip)\u001b[0m\n\u001b[1;32m      1\u001b[0m \u001b[0;32mdef\u001b[0m \u001b[0mmarkers_from_trips\u001b[0m\u001b[0;34m(\u001b[0m\u001b[0mtrips\u001b[0m\u001b[0;34m)\u001b[0m\u001b[0;34m:\u001b[0m\u001b[0;34m\u001b[0m\u001b[0;34m\u001b[0m\u001b[0m\n\u001b[0;32m----> 2\u001b[0;31m     \u001b[0mlocations\u001b[0m \u001b[0;34m=\u001b[0m \u001b[0mlist\u001b[0m\u001b[0;34m(\u001b[0m\u001b[0mmap\u001b[0m\u001b[0;34m(\u001b[0m\u001b[0;32mlambda\u001b[0m \u001b[0mtrip\u001b[0m\u001b[0;34m:\u001b[0m \u001b[0mlocation\u001b[0m\u001b[0;34m(\u001b[0m\u001b[0mtrip\u001b[0m\u001b[0;34m)\u001b[0m\u001b[0;34m,\u001b[0m \u001b[0mtrips\u001b[0m\u001b[0;34m)\u001b[0m\u001b[0;34m)\u001b[0m\u001b[0;34m\u001b[0m\u001b[0;34m\u001b[0m\u001b[0m\n\u001b[0m\u001b[1;32m      3\u001b[0m     \u001b[0;32mreturn\u001b[0m \u001b[0mlist\u001b[0m\u001b[0;34m(\u001b[0m\u001b[0mmap\u001b[0m\u001b[0;34m(\u001b[0m\u001b[0;32mlambda\u001b[0m \u001b[0mlocation\u001b[0m\u001b[0;34m:\u001b[0m \u001b[0mto_marker\u001b[0m\u001b[0;34m(\u001b[0m\u001b[0mlocation\u001b[0m\u001b[0;34m)\u001b[0m\u001b[0;34m,\u001b[0m\u001b[0mlocations\u001b[0m\u001b[0;34m)\u001b[0m\u001b[0;34m)\u001b[0m\u001b[0;34m\u001b[0m\u001b[0;34m\u001b[0m\u001b[0m\n",
      "\u001b[0;32m<ipython-input-176-cf3fb7910198>\u001b[0m in \u001b[0;36mlocation\u001b[0;34m(trip)\u001b[0m\n\u001b[1;32m      1\u001b[0m \u001b[0;32mdef\u001b[0m \u001b[0mlocation\u001b[0m\u001b[0;34m(\u001b[0m\u001b[0mtrip\u001b[0m\u001b[0;34m)\u001b[0m\u001b[0;34m:\u001b[0m\u001b[0;34m\u001b[0m\u001b[0;34m\u001b[0m\u001b[0m\n\u001b[0;32m----> 2\u001b[0;31m     \u001b[0;32mreturn\u001b[0m \u001b[0;34m[\u001b[0m\u001b[0mtrip\u001b[0m\u001b[0;34m[\u001b[0m\u001b[0;34m'pickup_latitude'\u001b[0m\u001b[0;34m]\u001b[0m\u001b[0;34m,\u001b[0m \u001b[0mtrip\u001b[0m\u001b[0;34m[\u001b[0m\u001b[0;34m'pickup_longitude'\u001b[0m\u001b[0;34m]\u001b[0m\u001b[0;34m]\u001b[0m\u001b[0;34m\u001b[0m\u001b[0;34m\u001b[0m\u001b[0m\n\u001b[0m",
      "\u001b[0;31mTypeError\u001b[0m: 'CircleMarker' object is not subscriptable"
     ]
    }
   ],
   "source": [
    "map_with_markers = add_markers(trip_markers, manhattan_map)"
   ]
  },
  {
   "cell_type": "code",
   "execution_count": 209,
   "metadata": {},
   "outputs": [
    {
     "data": {
      "text/plain": [
       "[<folium.vector_layers.CircleMarker at 0x7f0c372190f0>,\n",
       " <folium.vector_layers.CircleMarker at 0x7f0c37219080>,\n",
       " <folium.vector_layers.CircleMarker at 0x7f0c37219b70>,\n",
       " <folium.vector_layers.CircleMarker at 0x7f0c372190b8>,\n",
       " <folium.vector_layers.CircleMarker at 0x7f0c37219c88>,\n",
       " <folium.vector_layers.CircleMarker at 0x7f0c37219be0>,\n",
       " <folium.vector_layers.CircleMarker at 0x7f0c37219c50>,\n",
       " <folium.vector_layers.CircleMarker at 0x7f0c37219ba8>,\n",
       " <folium.vector_layers.CircleMarker at 0x7f0c37219b38>,\n",
       " <folium.vector_layers.CircleMarker at 0x7f0c37219630>,\n",
       " <folium.vector_layers.CircleMarker at 0x7f0c37219748>,\n",
       " <folium.vector_layers.CircleMarker at 0x7f0c37219668>,\n",
       " <folium.vector_layers.CircleMarker at 0x7f0c37219b00>,\n",
       " <folium.vector_layers.CircleMarker at 0x7f0c372196d8>,\n",
       " <folium.vector_layers.CircleMarker at 0x7f0c372196a0>,\n",
       " <folium.vector_layers.CircleMarker at 0x7f0c37219a20>,\n",
       " <folium.vector_layers.CircleMarker at 0x7f0c37219828>,\n",
       " <folium.vector_layers.CircleMarker at 0x7f0c372198d0>,\n",
       " <folium.vector_layers.CircleMarker at 0x7f0c372199e8>,\n",
       " <folium.vector_layers.CircleMarker at 0x7f0c37219a90>,\n",
       " <folium.vector_layers.CircleMarker at 0x7f0c37219860>,\n",
       " <folium.vector_layers.CircleMarker at 0x7f0c37219940>,\n",
       " <folium.vector_layers.CircleMarker at 0x7f0c372199b0>,\n",
       " <folium.vector_layers.CircleMarker at 0x7f0c372194e0>,\n",
       " <folium.vector_layers.CircleMarker at 0x7f0c372195f8>,\n",
       " <folium.vector_layers.CircleMarker at 0x7f0c37219ac8>,\n",
       " <folium.vector_layers.CircleMarker at 0x7f0c37219c18>,\n",
       " <folium.vector_layers.CircleMarker at 0x7f0c37219d68>,\n",
       " <folium.vector_layers.CircleMarker at 0x7f0c37219dd8>,\n",
       " <folium.vector_layers.CircleMarker at 0x7f0c37219e48>,\n",
       " <folium.vector_layers.CircleMarker at 0x7f0c37219eb8>,\n",
       " <folium.vector_layers.CircleMarker at 0x7f0c37219ef0>,\n",
       " <folium.vector_layers.CircleMarker at 0x7f0c37219f28>,\n",
       " <folium.vector_layers.CircleMarker at 0x7f0c37219f60>,\n",
       " <folium.vector_layers.CircleMarker at 0x7f0c37219f98>,\n",
       " <folium.vector_layers.CircleMarker at 0x7f0c37219fd0>,\n",
       " <folium.vector_layers.CircleMarker at 0x7f0c37219048>,\n",
       " <folium.vector_layers.CircleMarker at 0x7f0c37219588>,\n",
       " <folium.vector_layers.CircleMarker at 0x7f0c6c056e10>,\n",
       " <folium.vector_layers.CircleMarker at 0x7f0c4c4acb70>,\n",
       " <folium.vector_layers.CircleMarker at 0x7f0c6c0566a0>,\n",
       " <folium.vector_layers.CircleMarker at 0x7f0c37368dd8>,\n",
       " <folium.vector_layers.CircleMarker at 0x7f0c373685c0>,\n",
       " <folium.vector_layers.CircleMarker at 0x7f0c37156f98>,\n",
       " <folium.vector_layers.CircleMarker at 0x7f0c37156da0>,\n",
       " <folium.vector_layers.CircleMarker at 0x7f0c37156f60>,\n",
       " <folium.vector_layers.CircleMarker at 0x7f0c37156048>,\n",
       " <folium.vector_layers.CircleMarker at 0x7f0c371560b8>,\n",
       " <folium.vector_layers.CircleMarker at 0x7f0c371560f0>,\n",
       " <folium.vector_layers.CircleMarker at 0x7f0c37156128>,\n",
       " <folium.vector_layers.CircleMarker at 0x7f0c37156160>,\n",
       " <folium.vector_layers.CircleMarker at 0x7f0c37156198>,\n",
       " <folium.vector_layers.CircleMarker at 0x7f0c371561d0>,\n",
       " <folium.vector_layers.CircleMarker at 0x7f0c37156208>,\n",
       " <folium.vector_layers.CircleMarker at 0x7f0c37156240>,\n",
       " <folium.vector_layers.CircleMarker at 0x7f0c37156278>,\n",
       " <folium.vector_layers.CircleMarker at 0x7f0c371562b0>,\n",
       " <folium.vector_layers.CircleMarker at 0x7f0c371562e8>,\n",
       " <folium.vector_layers.CircleMarker at 0x7f0c37156320>,\n",
       " <folium.vector_layers.CircleMarker at 0x7f0c37156358>,\n",
       " <folium.vector_layers.CircleMarker at 0x7f0c37156390>,\n",
       " <folium.vector_layers.CircleMarker at 0x7f0c371563c8>,\n",
       " <folium.vector_layers.CircleMarker at 0x7f0c37156400>,\n",
       " <folium.vector_layers.CircleMarker at 0x7f0c37156438>,\n",
       " <folium.vector_layers.CircleMarker at 0x7f0c37156470>,\n",
       " <folium.vector_layers.CircleMarker at 0x7f0c371564a8>,\n",
       " <folium.vector_layers.CircleMarker at 0x7f0c371564e0>,\n",
       " <folium.vector_layers.CircleMarker at 0x7f0c37156518>,\n",
       " <folium.vector_layers.CircleMarker at 0x7f0c37156550>,\n",
       " <folium.vector_layers.CircleMarker at 0x7f0c37156588>,\n",
       " <folium.vector_layers.CircleMarker at 0x7f0c371565c0>,\n",
       " <folium.vector_layers.CircleMarker at 0x7f0c371565f8>,\n",
       " <folium.vector_layers.CircleMarker at 0x7f0c37156630>,\n",
       " <folium.vector_layers.CircleMarker at 0x7f0c37156668>,\n",
       " <folium.vector_layers.CircleMarker at 0x7f0c371566a0>,\n",
       " <folium.vector_layers.CircleMarker at 0x7f0c371566d8>,\n",
       " <folium.vector_layers.CircleMarker at 0x7f0c37156710>,\n",
       " <folium.vector_layers.CircleMarker at 0x7f0c37156748>,\n",
       " <folium.vector_layers.CircleMarker at 0x7f0c37156780>,\n",
       " <folium.vector_layers.CircleMarker at 0x7f0c371567b8>,\n",
       " <folium.vector_layers.CircleMarker at 0x7f0c371567f0>,\n",
       " <folium.vector_layers.CircleMarker at 0x7f0c37156828>,\n",
       " <folium.vector_layers.CircleMarker at 0x7f0c37156860>,\n",
       " <folium.vector_layers.CircleMarker at 0x7f0c37156898>,\n",
       " <folium.vector_layers.CircleMarker at 0x7f0c371568d0>,\n",
       " <folium.vector_layers.CircleMarker at 0x7f0c37156908>,\n",
       " <folium.vector_layers.CircleMarker at 0x7f0c37156940>,\n",
       " <folium.vector_layers.CircleMarker at 0x7f0c37156978>,\n",
       " <folium.vector_layers.CircleMarker at 0x7f0c371569b0>,\n",
       " <folium.vector_layers.CircleMarker at 0x7f0c371569e8>,\n",
       " <folium.vector_layers.CircleMarker at 0x7f0c37156a20>,\n",
       " <folium.vector_layers.CircleMarker at 0x7f0c37156a58>,\n",
       " <folium.vector_layers.CircleMarker at 0x7f0c37156a90>,\n",
       " <folium.vector_layers.CircleMarker at 0x7f0c37156ac8>,\n",
       " <folium.vector_layers.CircleMarker at 0x7f0c37156b00>,\n",
       " <folium.vector_layers.CircleMarker at 0x7f0c37156b38>,\n",
       " <folium.vector_layers.CircleMarker at 0x7f0c37156b70>,\n",
       " <folium.vector_layers.CircleMarker at 0x7f0c37156ba8>,\n",
       " <folium.vector_layers.CircleMarker at 0x7f0c37156be0>,\n",
       " <folium.vector_layers.CircleMarker at 0x7f0c37156080>,\n",
       " <folium.vector_layers.CircleMarker at 0x7f0c3720bdd8>,\n",
       " <folium.vector_layers.CircleMarker at 0x7f0c3720bb38>,\n",
       " <folium.vector_layers.CircleMarker at 0x7f0c3720bba8>,\n",
       " <folium.vector_layers.CircleMarker at 0x7f0c3720bc18>,\n",
       " <folium.vector_layers.CircleMarker at 0x7f0c3720b588>,\n",
       " <folium.vector_layers.CircleMarker at 0x7f0c3720b7b8>,\n",
       " <folium.vector_layers.CircleMarker at 0x7f0c3720bbe0>,\n",
       " <folium.vector_layers.CircleMarker at 0x7f0c3720bd30>,\n",
       " <folium.vector_layers.CircleMarker at 0x7f0c3720b8d0>,\n",
       " <folium.vector_layers.CircleMarker at 0x7f0c3720be10>,\n",
       " <folium.vector_layers.CircleMarker at 0x7f0c3720bef0>,\n",
       " <folium.vector_layers.CircleMarker at 0x7f0c3720bf98>,\n",
       " <folium.vector_layers.CircleMarker at 0x7f0c3720bb70>,\n",
       " <folium.vector_layers.CircleMarker at 0x7f0c3720bfd0>,\n",
       " <folium.vector_layers.CircleMarker at 0x7f0c3720b898>,\n",
       " <folium.vector_layers.CircleMarker at 0x7f0c3720bcf8>,\n",
       " <folium.vector_layers.CircleMarker at 0x7f0c3720bcc0>,\n",
       " <folium.vector_layers.CircleMarker at 0x7f0c370ad048>,\n",
       " <folium.vector_layers.CircleMarker at 0x7f0c370ad978>,\n",
       " <folium.vector_layers.CircleMarker at 0x7f0c370ad9b0>,\n",
       " <folium.vector_layers.CircleMarker at 0x7f0c370ad9e8>,\n",
       " <folium.vector_layers.CircleMarker at 0x7f0c370ada20>,\n",
       " <folium.vector_layers.CircleMarker at 0x7f0c370ada58>,\n",
       " <folium.vector_layers.CircleMarker at 0x7f0c370ada90>,\n",
       " <folium.vector_layers.CircleMarker at 0x7f0c370adac8>,\n",
       " <folium.vector_layers.CircleMarker at 0x7f0c370adb00>,\n",
       " <folium.vector_layers.CircleMarker at 0x7f0c370adb38>,\n",
       " <folium.vector_layers.CircleMarker at 0x7f0c370adb70>,\n",
       " <folium.vector_layers.CircleMarker at 0x7f0c370adba8>,\n",
       " <folium.vector_layers.CircleMarker at 0x7f0c370adbe0>,\n",
       " <folium.vector_layers.CircleMarker at 0x7f0c370adc18>,\n",
       " <folium.vector_layers.CircleMarker at 0x7f0c370adc50>,\n",
       " <folium.vector_layers.CircleMarker at 0x7f0c370adc88>,\n",
       " <folium.vector_layers.CircleMarker at 0x7f0c370adcc0>,\n",
       " <folium.vector_layers.CircleMarker at 0x7f0c370adcf8>,\n",
       " <folium.vector_layers.CircleMarker at 0x7f0c370add30>,\n",
       " <folium.vector_layers.CircleMarker at 0x7f0c370add68>,\n",
       " <folium.vector_layers.CircleMarker at 0x7f0c370adda0>,\n",
       " <folium.vector_layers.CircleMarker at 0x7f0c370addd8>,\n",
       " <folium.vector_layers.CircleMarker at 0x7f0c370ade10>,\n",
       " <folium.vector_layers.CircleMarker at 0x7f0c370ade48>,\n",
       " <folium.vector_layers.CircleMarker at 0x7f0c370ade80>,\n",
       " <folium.vector_layers.CircleMarker at 0x7f0c370adeb8>,\n",
       " <folium.vector_layers.CircleMarker at 0x7f0c370adef0>,\n",
       " <folium.vector_layers.CircleMarker at 0x7f0c370adf28>,\n",
       " <folium.vector_layers.CircleMarker at 0x7f0c370adf60>,\n",
       " <folium.vector_layers.CircleMarker at 0x7f0c370adf98>,\n",
       " <folium.vector_layers.CircleMarker at 0x7f0c370adfd0>,\n",
       " <folium.vector_layers.CircleMarker at 0x7f0c370ad940>,\n",
       " <folium.vector_layers.CircleMarker at 0x7f0c37230048>,\n",
       " <folium.vector_layers.CircleMarker at 0x7f0c372300b8>,\n",
       " <folium.vector_layers.CircleMarker at 0x7f0c372300f0>,\n",
       " <folium.vector_layers.CircleMarker at 0x7f0c37230128>,\n",
       " <folium.vector_layers.CircleMarker at 0x7f0c37230160>,\n",
       " <folium.vector_layers.CircleMarker at 0x7f0c37230198>,\n",
       " <folium.vector_layers.CircleMarker at 0x7f0c372301d0>,\n",
       " <folium.vector_layers.CircleMarker at 0x7f0c37230208>,\n",
       " <folium.vector_layers.CircleMarker at 0x7f0c37230240>,\n",
       " <folium.vector_layers.CircleMarker at 0x7f0c37230278>,\n",
       " <folium.vector_layers.CircleMarker at 0x7f0c372302b0>,\n",
       " <folium.vector_layers.CircleMarker at 0x7f0c372302e8>,\n",
       " <folium.vector_layers.CircleMarker at 0x7f0c37230320>,\n",
       " <folium.vector_layers.CircleMarker at 0x7f0c37230358>,\n",
       " <folium.vector_layers.CircleMarker at 0x7f0c37230390>,\n",
       " <folium.vector_layers.CircleMarker at 0x7f0c372303c8>,\n",
       " <folium.vector_layers.CircleMarker at 0x7f0c37230400>,\n",
       " <folium.vector_layers.CircleMarker at 0x7f0c37230438>,\n",
       " <folium.vector_layers.CircleMarker at 0x7f0c37230470>,\n",
       " <folium.vector_layers.CircleMarker at 0x7f0c372304a8>,\n",
       " <folium.vector_layers.CircleMarker at 0x7f0c372304e0>,\n",
       " <folium.vector_layers.CircleMarker at 0x7f0c37230518>,\n",
       " <folium.vector_layers.CircleMarker at 0x7f0c37230550>,\n",
       " <folium.vector_layers.CircleMarker at 0x7f0c37230588>,\n",
       " <folium.vector_layers.CircleMarker at 0x7f0c372305c0>,\n",
       " <folium.vector_layers.CircleMarker at 0x7f0c372305f8>,\n",
       " <folium.vector_layers.CircleMarker at 0x7f0c37230630>,\n",
       " <folium.vector_layers.CircleMarker at 0x7f0c37230668>,\n",
       " <folium.vector_layers.CircleMarker at 0x7f0c372306a0>,\n",
       " <folium.vector_layers.CircleMarker at 0x7f0c372306d8>,\n",
       " <folium.vector_layers.CircleMarker at 0x7f0c37230710>,\n",
       " <folium.vector_layers.CircleMarker at 0x7f0c37230748>,\n",
       " <folium.vector_layers.CircleMarker at 0x7f0c37230780>,\n",
       " <folium.vector_layers.CircleMarker at 0x7f0c372307b8>,\n",
       " <folium.vector_layers.CircleMarker at 0x7f0c372307f0>,\n",
       " <folium.vector_layers.CircleMarker at 0x7f0c37230828>,\n",
       " <folium.vector_layers.CircleMarker at 0x7f0c37230860>,\n",
       " <folium.vector_layers.CircleMarker at 0x7f0c37230898>,\n",
       " <folium.vector_layers.CircleMarker at 0x7f0c372308d0>,\n",
       " <folium.vector_layers.CircleMarker at 0x7f0c37230908>,\n",
       " <folium.vector_layers.CircleMarker at 0x7f0c37230940>,\n",
       " <folium.vector_layers.CircleMarker at 0x7f0c37230978>,\n",
       " <folium.vector_layers.CircleMarker at 0x7f0c372309b0>,\n",
       " <folium.vector_layers.CircleMarker at 0x7f0c372309e8>,\n",
       " <folium.vector_layers.CircleMarker at 0x7f0c37230a20>,\n",
       " <folium.vector_layers.CircleMarker at 0x7f0c37230a58>,\n",
       " <folium.vector_layers.CircleMarker at 0x7f0c37230a90>,\n",
       " <folium.vector_layers.CircleMarker at 0x7f0c37230ac8>,\n",
       " <folium.vector_layers.CircleMarker at 0x7f0c37230b00>,\n",
       " <folium.vector_layers.CircleMarker at 0x7f0c37230b38>,\n",
       " <folium.vector_layers.CircleMarker at 0x7f0c37230b70>,\n",
       " <folium.vector_layers.CircleMarker at 0x7f0c37230ba8>,\n",
       " <folium.vector_layers.CircleMarker at 0x7f0c37230be0>,\n",
       " <folium.vector_layers.CircleMarker at 0x7f0c37230c18>,\n",
       " <folium.vector_layers.CircleMarker at 0x7f0c37230c50>,\n",
       " <folium.vector_layers.CircleMarker at 0x7f0c37230c88>,\n",
       " <folium.vector_layers.CircleMarker at 0x7f0c37230cc0>,\n",
       " <folium.vector_layers.CircleMarker at 0x7f0c37230cf8>,\n",
       " <folium.vector_layers.CircleMarker at 0x7f0c37230d30>,\n",
       " <folium.vector_layers.CircleMarker at 0x7f0c37230d68>,\n",
       " <folium.vector_layers.CircleMarker at 0x7f0c37230da0>,\n",
       " <folium.vector_layers.CircleMarker at 0x7f0c37230dd8>,\n",
       " <folium.vector_layers.CircleMarker at 0x7f0c37230e10>,\n",
       " <folium.vector_layers.CircleMarker at 0x7f0c37230e48>,\n",
       " <folium.vector_layers.CircleMarker at 0x7f0c37230e80>,\n",
       " <folium.vector_layers.CircleMarker at 0x7f0c37230eb8>,\n",
       " <folium.vector_layers.CircleMarker at 0x7f0c37230ef0>,\n",
       " <folium.vector_layers.CircleMarker at 0x7f0c37230f28>,\n",
       " <folium.vector_layers.CircleMarker at 0x7f0c37230f60>,\n",
       " <folium.vector_layers.CircleMarker at 0x7f0c37230f98>,\n",
       " <folium.vector_layers.CircleMarker at 0x7f0c37230fd0>,\n",
       " <folium.vector_layers.CircleMarker at 0x7f0c37230080>,\n",
       " <folium.vector_layers.CircleMarker at 0x7f0c37245080>,\n",
       " <folium.vector_layers.CircleMarker at 0x7f0c372450b8>,\n",
       " <folium.vector_layers.CircleMarker at 0x7f0c372450f0>,\n",
       " <folium.vector_layers.CircleMarker at 0x7f0c37245128>,\n",
       " <folium.vector_layers.CircleMarker at 0x7f0c37245160>,\n",
       " <folium.vector_layers.CircleMarker at 0x7f0c37245198>,\n",
       " <folium.vector_layers.CircleMarker at 0x7f0c372451d0>,\n",
       " <folium.vector_layers.CircleMarker at 0x7f0c37245208>,\n",
       " <folium.vector_layers.CircleMarker at 0x7f0c37245240>,\n",
       " <folium.vector_layers.CircleMarker at 0x7f0c37245278>,\n",
       " <folium.vector_layers.CircleMarker at 0x7f0c372452b0>,\n",
       " <folium.vector_layers.CircleMarker at 0x7f0c372452e8>,\n",
       " <folium.vector_layers.CircleMarker at 0x7f0c37245320>,\n",
       " <folium.vector_layers.CircleMarker at 0x7f0c37245358>,\n",
       " <folium.vector_layers.CircleMarker at 0x7f0c37245390>,\n",
       " <folium.vector_layers.CircleMarker at 0x7f0c372453c8>,\n",
       " <folium.vector_layers.CircleMarker at 0x7f0c37245400>,\n",
       " <folium.vector_layers.CircleMarker at 0x7f0c37245438>,\n",
       " <folium.vector_layers.CircleMarker at 0x7f0c37245470>,\n",
       " <folium.vector_layers.CircleMarker at 0x7f0c372454a8>,\n",
       " <folium.vector_layers.CircleMarker at 0x7f0c372454e0>,\n",
       " <folium.vector_layers.CircleMarker at 0x7f0c37245518>,\n",
       " <folium.vector_layers.CircleMarker at 0x7f0c37245550>,\n",
       " <folium.vector_layers.CircleMarker at 0x7f0c37245588>,\n",
       " <folium.vector_layers.CircleMarker at 0x7f0c372455c0>,\n",
       " <folium.vector_layers.CircleMarker at 0x7f0c372455f8>,\n",
       " <folium.vector_layers.CircleMarker at 0x7f0c37245630>,\n",
       " <folium.vector_layers.CircleMarker at 0x7f0c37245668>,\n",
       " <folium.vector_layers.CircleMarker at 0x7f0c372456a0>,\n",
       " <folium.vector_layers.CircleMarker at 0x7f0c372456d8>,\n",
       " <folium.vector_layers.CircleMarker at 0x7f0c37245710>,\n",
       " <folium.vector_layers.CircleMarker at 0x7f0c37245748>,\n",
       " <folium.vector_layers.CircleMarker at 0x7f0c37245780>,\n",
       " <folium.vector_layers.CircleMarker at 0x7f0c372457b8>,\n",
       " <folium.vector_layers.CircleMarker at 0x7f0c372457f0>,\n",
       " <folium.vector_layers.CircleMarker at 0x7f0c37245828>,\n",
       " <folium.vector_layers.CircleMarker at 0x7f0c37245860>,\n",
       " <folium.vector_layers.CircleMarker at 0x7f0c37245898>,\n",
       " <folium.vector_layers.CircleMarker at 0x7f0c372458d0>,\n",
       " <folium.vector_layers.CircleMarker at 0x7f0c37245908>,\n",
       " <folium.vector_layers.CircleMarker at 0x7f0c37245940>,\n",
       " <folium.vector_layers.CircleMarker at 0x7f0c37245978>,\n",
       " <folium.vector_layers.CircleMarker at 0x7f0c372459b0>,\n",
       " <folium.vector_layers.CircleMarker at 0x7f0c372459e8>,\n",
       " <folium.vector_layers.CircleMarker at 0x7f0c37245a20>,\n",
       " <folium.vector_layers.CircleMarker at 0x7f0c37245a58>,\n",
       " <folium.vector_layers.CircleMarker at 0x7f0c37245a90>,\n",
       " <folium.vector_layers.CircleMarker at 0x7f0c37245ac8>,\n",
       " <folium.vector_layers.CircleMarker at 0x7f0c37245b00>,\n",
       " <folium.vector_layers.CircleMarker at 0x7f0c37245b38>,\n",
       " <folium.vector_layers.CircleMarker at 0x7f0c37245b70>,\n",
       " <folium.vector_layers.CircleMarker at 0x7f0c37245ba8>,\n",
       " <folium.vector_layers.CircleMarker at 0x7f0c37245be0>,\n",
       " <folium.vector_layers.CircleMarker at 0x7f0c37245c18>,\n",
       " <folium.vector_layers.CircleMarker at 0x7f0c37245c50>,\n",
       " <folium.vector_layers.CircleMarker at 0x7f0c37245c88>,\n",
       " <folium.vector_layers.CircleMarker at 0x7f0c37245cc0>,\n",
       " <folium.vector_layers.CircleMarker at 0x7f0c37245cf8>,\n",
       " <folium.vector_layers.CircleMarker at 0x7f0c37245d30>,\n",
       " <folium.vector_layers.CircleMarker at 0x7f0c37245d68>,\n",
       " <folium.vector_layers.CircleMarker at 0x7f0c37245da0>,\n",
       " <folium.vector_layers.CircleMarker at 0x7f0c37245dd8>,\n",
       " <folium.vector_layers.CircleMarker at 0x7f0c37245e10>,\n",
       " <folium.vector_layers.CircleMarker at 0x7f0c37245e48>,\n",
       " <folium.vector_layers.CircleMarker at 0x7f0c37245e80>,\n",
       " <folium.vector_layers.CircleMarker at 0x7f0c37245eb8>,\n",
       " <folium.vector_layers.CircleMarker at 0x7f0c37245ef0>,\n",
       " <folium.vector_layers.CircleMarker at 0x7f0c37245f28>,\n",
       " <folium.vector_layers.CircleMarker at 0x7f0c37245f60>,\n",
       " <folium.vector_layers.CircleMarker at 0x7f0c37245f98>,\n",
       " <folium.vector_layers.CircleMarker at 0x7f0c37245fd0>,\n",
       " <folium.vector_layers.CircleMarker at 0x7f0c37245048>,\n",
       " <folium.vector_layers.CircleMarker at 0x7f0c37036080>,\n",
       " <folium.vector_layers.CircleMarker at 0x7f0c370360b8>,\n",
       " <folium.vector_layers.CircleMarker at 0x7f0c370360f0>,\n",
       " <folium.vector_layers.CircleMarker at 0x7f0c37036128>,\n",
       " <folium.vector_layers.CircleMarker at 0x7f0c37036160>,\n",
       " <folium.vector_layers.CircleMarker at 0x7f0c37036198>,\n",
       " <folium.vector_layers.CircleMarker at 0x7f0c370361d0>,\n",
       " <folium.vector_layers.CircleMarker at 0x7f0c37036208>,\n",
       " <folium.vector_layers.CircleMarker at 0x7f0c37036240>,\n",
       " <folium.vector_layers.CircleMarker at 0x7f0c37036278>,\n",
       " <folium.vector_layers.CircleMarker at 0x7f0c370362b0>,\n",
       " <folium.vector_layers.CircleMarker at 0x7f0c370362e8>,\n",
       " <folium.vector_layers.CircleMarker at 0x7f0c37036320>,\n",
       " <folium.vector_layers.CircleMarker at 0x7f0c37036358>,\n",
       " <folium.vector_layers.CircleMarker at 0x7f0c37036390>,\n",
       " <folium.vector_layers.CircleMarker at 0x7f0c370363c8>,\n",
       " <folium.vector_layers.CircleMarker at 0x7f0c37036400>,\n",
       " <folium.vector_layers.CircleMarker at 0x7f0c37036438>,\n",
       " <folium.vector_layers.CircleMarker at 0x7f0c37036470>,\n",
       " <folium.vector_layers.CircleMarker at 0x7f0c370364a8>,\n",
       " <folium.vector_layers.CircleMarker at 0x7f0c370364e0>,\n",
       " <folium.vector_layers.CircleMarker at 0x7f0c37036518>,\n",
       " <folium.vector_layers.CircleMarker at 0x7f0c37036550>,\n",
       " <folium.vector_layers.CircleMarker at 0x7f0c37036588>,\n",
       " <folium.vector_layers.CircleMarker at 0x7f0c370365c0>,\n",
       " <folium.vector_layers.CircleMarker at 0x7f0c370365f8>,\n",
       " <folium.vector_layers.CircleMarker at 0x7f0c37036630>,\n",
       " <folium.vector_layers.CircleMarker at 0x7f0c37036668>,\n",
       " <folium.vector_layers.CircleMarker at 0x7f0c370366a0>,\n",
       " <folium.vector_layers.CircleMarker at 0x7f0c370366d8>,\n",
       " <folium.vector_layers.CircleMarker at 0x7f0c37036710>,\n",
       " <folium.vector_layers.CircleMarker at 0x7f0c37036748>,\n",
       " <folium.vector_layers.CircleMarker at 0x7f0c37036780>,\n",
       " <folium.vector_layers.CircleMarker at 0x7f0c370367b8>,\n",
       " <folium.vector_layers.CircleMarker at 0x7f0c370367f0>,\n",
       " <folium.vector_layers.CircleMarker at 0x7f0c37036828>,\n",
       " <folium.vector_layers.CircleMarker at 0x7f0c37036860>,\n",
       " <folium.vector_layers.CircleMarker at 0x7f0c37036898>,\n",
       " <folium.vector_layers.CircleMarker at 0x7f0c370368d0>,\n",
       " <folium.vector_layers.CircleMarker at 0x7f0c37036908>,\n",
       " <folium.vector_layers.CircleMarker at 0x7f0c37036940>,\n",
       " <folium.vector_layers.CircleMarker at 0x7f0c37036978>,\n",
       " <folium.vector_layers.CircleMarker at 0x7f0c370369b0>,\n",
       " <folium.vector_layers.CircleMarker at 0x7f0c370369e8>,\n",
       " <folium.vector_layers.CircleMarker at 0x7f0c37036a20>,\n",
       " <folium.vector_layers.CircleMarker at 0x7f0c37036a58>,\n",
       " <folium.vector_layers.CircleMarker at 0x7f0c37036a90>,\n",
       " <folium.vector_layers.CircleMarker at 0x7f0c37036ac8>,\n",
       " <folium.vector_layers.CircleMarker at 0x7f0c37036b00>,\n",
       " <folium.vector_layers.CircleMarker at 0x7f0c37036b38>,\n",
       " <folium.vector_layers.CircleMarker at 0x7f0c37036b70>,\n",
       " <folium.vector_layers.CircleMarker at 0x7f0c37036ba8>,\n",
       " <folium.vector_layers.CircleMarker at 0x7f0c37036be0>,\n",
       " <folium.vector_layers.CircleMarker at 0x7f0c37036c18>,\n",
       " <folium.vector_layers.CircleMarker at 0x7f0c37036c50>,\n",
       " <folium.vector_layers.CircleMarker at 0x7f0c37036c88>,\n",
       " <folium.vector_layers.CircleMarker at 0x7f0c37036cc0>,\n",
       " <folium.vector_layers.CircleMarker at 0x7f0c37036cf8>,\n",
       " <folium.vector_layers.CircleMarker at 0x7f0c37036d30>,\n",
       " <folium.vector_layers.CircleMarker at 0x7f0c37036d68>,\n",
       " <folium.vector_layers.CircleMarker at 0x7f0c37036da0>,\n",
       " <folium.vector_layers.CircleMarker at 0x7f0c37036dd8>,\n",
       " <folium.vector_layers.CircleMarker at 0x7f0c37036e10>,\n",
       " <folium.vector_layers.CircleMarker at 0x7f0c37036e48>,\n",
       " <folium.vector_layers.CircleMarker at 0x7f0c37036e80>,\n",
       " <folium.vector_layers.CircleMarker at 0x7f0c37036eb8>,\n",
       " <folium.vector_layers.CircleMarker at 0x7f0c37036ef0>,\n",
       " <folium.vector_layers.CircleMarker at 0x7f0c37036f28>,\n",
       " <folium.vector_layers.CircleMarker at 0x7f0c37036f60>,\n",
       " <folium.vector_layers.CircleMarker at 0x7f0c37036f98>,\n",
       " <folium.vector_layers.CircleMarker at 0x7f0c37036fd0>,\n",
       " <folium.vector_layers.CircleMarker at 0x7f0c37036048>,\n",
       " <folium.vector_layers.CircleMarker at 0x7f0c37042080>,\n",
       " <folium.vector_layers.CircleMarker at 0x7f0c370420b8>,\n",
       " <folium.vector_layers.CircleMarker at 0x7f0c370420f0>,\n",
       " <folium.vector_layers.CircleMarker at 0x7f0c37042128>,\n",
       " <folium.vector_layers.CircleMarker at 0x7f0c37042160>,\n",
       " <folium.vector_layers.CircleMarker at 0x7f0c37042198>,\n",
       " <folium.vector_layers.CircleMarker at 0x7f0c370421d0>,\n",
       " <folium.vector_layers.CircleMarker at 0x7f0c37042208>,\n",
       " <folium.vector_layers.CircleMarker at 0x7f0c37042240>,\n",
       " <folium.vector_layers.CircleMarker at 0x7f0c37042278>,\n",
       " <folium.vector_layers.CircleMarker at 0x7f0c370422b0>,\n",
       " <folium.vector_layers.CircleMarker at 0x7f0c370422e8>,\n",
       " <folium.vector_layers.CircleMarker at 0x7f0c37042320>,\n",
       " <folium.vector_layers.CircleMarker at 0x7f0c37042358>,\n",
       " <folium.vector_layers.CircleMarker at 0x7f0c37042390>,\n",
       " <folium.vector_layers.CircleMarker at 0x7f0c370423c8>,\n",
       " <folium.vector_layers.CircleMarker at 0x7f0c37042400>,\n",
       " <folium.vector_layers.CircleMarker at 0x7f0c37042438>,\n",
       " <folium.vector_layers.CircleMarker at 0x7f0c37042470>,\n",
       " <folium.vector_layers.CircleMarker at 0x7f0c370424a8>,\n",
       " <folium.vector_layers.CircleMarker at 0x7f0c370424e0>,\n",
       " <folium.vector_layers.CircleMarker at 0x7f0c37042518>,\n",
       " <folium.vector_layers.CircleMarker at 0x7f0c37042550>,\n",
       " <folium.vector_layers.CircleMarker at 0x7f0c37042588>,\n",
       " <folium.vector_layers.CircleMarker at 0x7f0c370425c0>,\n",
       " <folium.vector_layers.CircleMarker at 0x7f0c370425f8>,\n",
       " <folium.vector_layers.CircleMarker at 0x7f0c37042630>,\n",
       " <folium.vector_layers.CircleMarker at 0x7f0c37042668>,\n",
       " <folium.vector_layers.CircleMarker at 0x7f0c370426a0>,\n",
       " <folium.vector_layers.CircleMarker at 0x7f0c370426d8>,\n",
       " <folium.vector_layers.CircleMarker at 0x7f0c37042710>,\n",
       " <folium.vector_layers.CircleMarker at 0x7f0c37042748>,\n",
       " <folium.vector_layers.CircleMarker at 0x7f0c37042780>,\n",
       " <folium.vector_layers.CircleMarker at 0x7f0c370427b8>,\n",
       " <folium.vector_layers.CircleMarker at 0x7f0c370427f0>,\n",
       " <folium.vector_layers.CircleMarker at 0x7f0c37042828>,\n",
       " <folium.vector_layers.CircleMarker at 0x7f0c37042860>,\n",
       " <folium.vector_layers.CircleMarker at 0x7f0c37042898>,\n",
       " <folium.vector_layers.CircleMarker at 0x7f0c370428d0>,\n",
       " <folium.vector_layers.CircleMarker at 0x7f0c37042908>,\n",
       " <folium.vector_layers.CircleMarker at 0x7f0c37042940>,\n",
       " <folium.vector_layers.CircleMarker at 0x7f0c37042978>,\n",
       " <folium.vector_layers.CircleMarker at 0x7f0c370429b0>,\n",
       " <folium.vector_layers.CircleMarker at 0x7f0c370429e8>,\n",
       " <folium.vector_layers.CircleMarker at 0x7f0c37042a20>,\n",
       " <folium.vector_layers.CircleMarker at 0x7f0c37042a58>,\n",
       " <folium.vector_layers.CircleMarker at 0x7f0c37042a90>,\n",
       " <folium.vector_layers.CircleMarker at 0x7f0c37042ac8>,\n",
       " <folium.vector_layers.CircleMarker at 0x7f0c37042b00>,\n",
       " <folium.vector_layers.CircleMarker at 0x7f0c37042b38>,\n",
       " <folium.vector_layers.CircleMarker at 0x7f0c37042b70>,\n",
       " <folium.vector_layers.CircleMarker at 0x7f0c37042ba8>,\n",
       " <folium.vector_layers.CircleMarker at 0x7f0c37042be0>,\n",
       " <folium.vector_layers.CircleMarker at 0x7f0c37042c18>,\n",
       " <folium.vector_layers.CircleMarker at 0x7f0c37042c50>,\n",
       " <folium.vector_layers.CircleMarker at 0x7f0c37042c88>,\n",
       " <folium.vector_layers.CircleMarker at 0x7f0c37042cc0>,\n",
       " <folium.vector_layers.CircleMarker at 0x7f0c37042cf8>,\n",
       " <folium.vector_layers.CircleMarker at 0x7f0c37042d30>,\n",
       " <folium.vector_layers.CircleMarker at 0x7f0c37042d68>,\n",
       " <folium.vector_layers.CircleMarker at 0x7f0c37042da0>,\n",
       " <folium.vector_layers.CircleMarker at 0x7f0c37042dd8>,\n",
       " <folium.vector_layers.CircleMarker at 0x7f0c37042e10>,\n",
       " <folium.vector_layers.CircleMarker at 0x7f0c37042e48>,\n",
       " <folium.vector_layers.CircleMarker at 0x7f0c37042e80>,\n",
       " <folium.vector_layers.CircleMarker at 0x7f0c37042eb8>,\n",
       " <folium.vector_layers.CircleMarker at 0x7f0c37042ef0>,\n",
       " <folium.vector_layers.CircleMarker at 0x7f0c37042f28>,\n",
       " <folium.vector_layers.CircleMarker at 0x7f0c37042f60>,\n",
       " <folium.vector_layers.CircleMarker at 0x7f0c37042f98>,\n",
       " <folium.vector_layers.CircleMarker at 0x7f0c37042fd0>,\n",
       " <folium.vector_layers.CircleMarker at 0x7f0c37042048>,\n",
       " <folium.vector_layers.CircleMarker at 0x7f0c37051080>,\n",
       " <folium.vector_layers.CircleMarker at 0x7f0c370510b8>,\n",
       " <folium.vector_layers.CircleMarker at 0x7f0c370510f0>,\n",
       " <folium.vector_layers.CircleMarker at 0x7f0c37051128>,\n",
       " <folium.vector_layers.CircleMarker at 0x7f0c37051160>,\n",
       " <folium.vector_layers.CircleMarker at 0x7f0c37051198>,\n",
       " <folium.vector_layers.CircleMarker at 0x7f0c370511d0>,\n",
       " <folium.vector_layers.CircleMarker at 0x7f0c37051208>,\n",
       " <folium.vector_layers.CircleMarker at 0x7f0c37051240>,\n",
       " <folium.vector_layers.CircleMarker at 0x7f0c37051278>,\n",
       " <folium.vector_layers.CircleMarker at 0x7f0c370512b0>,\n",
       " <folium.vector_layers.CircleMarker at 0x7f0c370512e8>,\n",
       " <folium.vector_layers.CircleMarker at 0x7f0c37051320>,\n",
       " <folium.vector_layers.CircleMarker at 0x7f0c37051358>,\n",
       " <folium.vector_layers.CircleMarker at 0x7f0c37051390>,\n",
       " <folium.vector_layers.CircleMarker at 0x7f0c370513c8>,\n",
       " <folium.vector_layers.CircleMarker at 0x7f0c37051400>,\n",
       " <folium.vector_layers.CircleMarker at 0x7f0c37051438>,\n",
       " <folium.vector_layers.CircleMarker at 0x7f0c37051470>,\n",
       " <folium.vector_layers.CircleMarker at 0x7f0c370514a8>,\n",
       " <folium.vector_layers.CircleMarker at 0x7f0c370514e0>,\n",
       " <folium.vector_layers.CircleMarker at 0x7f0c37051518>,\n",
       " <folium.vector_layers.CircleMarker at 0x7f0c37051550>,\n",
       " <folium.vector_layers.CircleMarker at 0x7f0c37051588>,\n",
       " <folium.vector_layers.CircleMarker at 0x7f0c370515c0>,\n",
       " <folium.vector_layers.CircleMarker at 0x7f0c370515f8>,\n",
       " <folium.vector_layers.CircleMarker at 0x7f0c37051630>,\n",
       " <folium.vector_layers.CircleMarker at 0x7f0c37051668>,\n",
       " <folium.vector_layers.CircleMarker at 0x7f0c370516a0>,\n",
       " <folium.vector_layers.CircleMarker at 0x7f0c370516d8>,\n",
       " <folium.vector_layers.CircleMarker at 0x7f0c37051710>,\n",
       " <folium.vector_layers.CircleMarker at 0x7f0c37051748>,\n",
       " <folium.vector_layers.CircleMarker at 0x7f0c37051780>,\n",
       " <folium.vector_layers.CircleMarker at 0x7f0c370517b8>,\n",
       " <folium.vector_layers.CircleMarker at 0x7f0c370517f0>,\n",
       " <folium.vector_layers.CircleMarker at 0x7f0c37051828>,\n",
       " <folium.vector_layers.CircleMarker at 0x7f0c37051860>,\n",
       " <folium.vector_layers.CircleMarker at 0x7f0c37051898>,\n",
       " <folium.vector_layers.CircleMarker at 0x7f0c370518d0>,\n",
       " <folium.vector_layers.CircleMarker at 0x7f0c37051908>,\n",
       " <folium.vector_layers.CircleMarker at 0x7f0c37051940>,\n",
       " <folium.vector_layers.CircleMarker at 0x7f0c37051978>,\n",
       " <folium.vector_layers.CircleMarker at 0x7f0c370519b0>,\n",
       " <folium.vector_layers.CircleMarker at 0x7f0c370519e8>,\n",
       " <folium.vector_layers.CircleMarker at 0x7f0c37051a20>,\n",
       " <folium.vector_layers.CircleMarker at 0x7f0c37051a58>,\n",
       " <folium.vector_layers.CircleMarker at 0x7f0c37051a90>,\n",
       " <folium.vector_layers.CircleMarker at 0x7f0c37051ac8>,\n",
       " <folium.vector_layers.CircleMarker at 0x7f0c37051b00>,\n",
       " <folium.vector_layers.CircleMarker at 0x7f0c37051b38>,\n",
       " <folium.vector_layers.CircleMarker at 0x7f0c37051b70>,\n",
       " <folium.vector_layers.CircleMarker at 0x7f0c37051ba8>,\n",
       " <folium.vector_layers.CircleMarker at 0x7f0c37051be0>,\n",
       " <folium.vector_layers.CircleMarker at 0x7f0c37051c18>,\n",
       " <folium.vector_layers.CircleMarker at 0x7f0c37051c50>,\n",
       " <folium.vector_layers.CircleMarker at 0x7f0c37051c88>,\n",
       " <folium.vector_layers.CircleMarker at 0x7f0c37051cc0>,\n",
       " <folium.vector_layers.CircleMarker at 0x7f0c37051cf8>,\n",
       " <folium.vector_layers.CircleMarker at 0x7f0c37051d30>,\n",
       " <folium.vector_layers.CircleMarker at 0x7f0c37051d68>,\n",
       " <folium.vector_layers.CircleMarker at 0x7f0c37051da0>,\n",
       " <folium.vector_layers.CircleMarker at 0x7f0c37051dd8>,\n",
       " <folium.vector_layers.CircleMarker at 0x7f0c37051e10>,\n",
       " <folium.vector_layers.CircleMarker at 0x7f0c37051e48>,\n",
       " <folium.vector_layers.CircleMarker at 0x7f0c37051e80>,\n",
       " <folium.vector_layers.CircleMarker at 0x7f0c37051eb8>,\n",
       " <folium.vector_layers.CircleMarker at 0x7f0c37051ef0>,\n",
       " <folium.vector_layers.CircleMarker at 0x7f0c37051f28>,\n",
       " <folium.vector_layers.CircleMarker at 0x7f0c37051f60>,\n",
       " <folium.vector_layers.CircleMarker at 0x7f0c37051f98>,\n",
       " <folium.vector_layers.CircleMarker at 0x7f0c37051fd0>,\n",
       " <folium.vector_layers.CircleMarker at 0x7f0c37051048>,\n",
       " <folium.vector_layers.CircleMarker at 0x7f0c3705e048>,\n",
       " <folium.vector_layers.CircleMarker at 0x7f0c3705e0b8>,\n",
       " <folium.vector_layers.CircleMarker at 0x7f0c3705e0f0>,\n",
       " <folium.vector_layers.CircleMarker at 0x7f0c3705e128>,\n",
       " <folium.vector_layers.CircleMarker at 0x7f0c3705e160>,\n",
       " <folium.vector_layers.CircleMarker at 0x7f0c3705e198>,\n",
       " <folium.vector_layers.CircleMarker at 0x7f0c3705e1d0>,\n",
       " <folium.vector_layers.CircleMarker at 0x7f0c3705e208>,\n",
       " <folium.vector_layers.CircleMarker at 0x7f0c3705e240>,\n",
       " <folium.vector_layers.CircleMarker at 0x7f0c3705e278>,\n",
       " <folium.vector_layers.CircleMarker at 0x7f0c3705e2b0>,\n",
       " <folium.vector_layers.CircleMarker at 0x7f0c3705e2e8>,\n",
       " <folium.vector_layers.CircleMarker at 0x7f0c3705e320>,\n",
       " <folium.vector_layers.CircleMarker at 0x7f0c3705e358>,\n",
       " <folium.vector_layers.CircleMarker at 0x7f0c3705e390>,\n",
       " <folium.vector_layers.CircleMarker at 0x7f0c3705e3c8>,\n",
       " <folium.vector_layers.CircleMarker at 0x7f0c3705e400>,\n",
       " <folium.vector_layers.CircleMarker at 0x7f0c3705e438>,\n",
       " <folium.vector_layers.CircleMarker at 0x7f0c3705e470>,\n",
       " <folium.vector_layers.CircleMarker at 0x7f0c3705e4a8>,\n",
       " <folium.vector_layers.CircleMarker at 0x7f0c3705e4e0>,\n",
       " <folium.vector_layers.CircleMarker at 0x7f0c3705e518>,\n",
       " <folium.vector_layers.CircleMarker at 0x7f0c3705e550>,\n",
       " <folium.vector_layers.CircleMarker at 0x7f0c3705e588>,\n",
       " <folium.vector_layers.CircleMarker at 0x7f0c3705e5c0>,\n",
       " <folium.vector_layers.CircleMarker at 0x7f0c3705e5f8>,\n",
       " <folium.vector_layers.CircleMarker at 0x7f0c3705e630>,\n",
       " <folium.vector_layers.CircleMarker at 0x7f0c3705e668>,\n",
       " <folium.vector_layers.CircleMarker at 0x7f0c3705e6a0>,\n",
       " <folium.vector_layers.CircleMarker at 0x7f0c3705e6d8>,\n",
       " <folium.vector_layers.CircleMarker at 0x7f0c3705e710>,\n",
       " <folium.vector_layers.CircleMarker at 0x7f0c3705e748>,\n",
       " <folium.vector_layers.CircleMarker at 0x7f0c3705e780>,\n",
       " <folium.vector_layers.CircleMarker at 0x7f0c3705e7b8>,\n",
       " <folium.vector_layers.CircleMarker at 0x7f0c3705e7f0>,\n",
       " <folium.vector_layers.CircleMarker at 0x7f0c3705e828>,\n",
       " <folium.vector_layers.CircleMarker at 0x7f0c3705e860>,\n",
       " <folium.vector_layers.CircleMarker at 0x7f0c3705e898>,\n",
       " <folium.vector_layers.CircleMarker at 0x7f0c3705e8d0>,\n",
       " <folium.vector_layers.CircleMarker at 0x7f0c3705e908>,\n",
       " <folium.vector_layers.CircleMarker at 0x7f0c3705e940>,\n",
       " <folium.vector_layers.CircleMarker at 0x7f0c3705e978>,\n",
       " <folium.vector_layers.CircleMarker at 0x7f0c3705e9b0>,\n",
       " <folium.vector_layers.CircleMarker at 0x7f0c3705e9e8>,\n",
       " <folium.vector_layers.CircleMarker at 0x7f0c3705ea20>,\n",
       " <folium.vector_layers.CircleMarker at 0x7f0c3705ea58>,\n",
       " <folium.vector_layers.CircleMarker at 0x7f0c3705ea90>,\n",
       " <folium.vector_layers.CircleMarker at 0x7f0c3705eac8>,\n",
       " <folium.vector_layers.CircleMarker at 0x7f0c3705eb00>,\n",
       " <folium.vector_layers.CircleMarker at 0x7f0c3705eb38>,\n",
       " <folium.vector_layers.CircleMarker at 0x7f0c3705eb70>,\n",
       " <folium.vector_layers.CircleMarker at 0x7f0c3705eba8>,\n",
       " <folium.vector_layers.CircleMarker at 0x7f0c3705ebe0>,\n",
       " <folium.vector_layers.CircleMarker at 0x7f0c3705ec18>,\n",
       " <folium.vector_layers.CircleMarker at 0x7f0c3705ec50>,\n",
       " <folium.vector_layers.CircleMarker at 0x7f0c3705ec88>,\n",
       " <folium.vector_layers.CircleMarker at 0x7f0c3705ecc0>,\n",
       " <folium.vector_layers.CircleMarker at 0x7f0c3705ecf8>,\n",
       " <folium.vector_layers.CircleMarker at 0x7f0c3705ed30>,\n",
       " <folium.vector_layers.CircleMarker at 0x7f0c3705ed68>,\n",
       " <folium.vector_layers.CircleMarker at 0x7f0c3705eda0>,\n",
       " <folium.vector_layers.CircleMarker at 0x7f0c3705edd8>,\n",
       " <folium.vector_layers.CircleMarker at 0x7f0c3705ee10>,\n",
       " <folium.vector_layers.CircleMarker at 0x7f0c3705ee48>,\n",
       " <folium.vector_layers.CircleMarker at 0x7f0c3705ee80>,\n",
       " <folium.vector_layers.CircleMarker at 0x7f0c3705eeb8>,\n",
       " <folium.vector_layers.CircleMarker at 0x7f0c3705eef0>,\n",
       " <folium.vector_layers.CircleMarker at 0x7f0c3705ef28>,\n",
       " <folium.vector_layers.CircleMarker at 0x7f0c3705ef60>,\n",
       " <folium.vector_layers.CircleMarker at 0x7f0c3705ef98>,\n",
       " <folium.vector_layers.CircleMarker at 0x7f0c3705efd0>,\n",
       " <folium.vector_layers.CircleMarker at 0x7f0c3705e080>,\n",
       " <folium.vector_layers.CircleMarker at 0x7f0c3706c080>,\n",
       " <folium.vector_layers.CircleMarker at 0x7f0c3706c0b8>,\n",
       " <folium.vector_layers.CircleMarker at 0x7f0c3706c0f0>,\n",
       " <folium.vector_layers.CircleMarker at 0x7f0c3706c128>,\n",
       " <folium.vector_layers.CircleMarker at 0x7f0c3706c160>,\n",
       " <folium.vector_layers.CircleMarker at 0x7f0c3706c198>,\n",
       " <folium.vector_layers.CircleMarker at 0x7f0c3706c1d0>,\n",
       " <folium.vector_layers.CircleMarker at 0x7f0c3706c208>,\n",
       " <folium.vector_layers.CircleMarker at 0x7f0c3706c240>,\n",
       " <folium.vector_layers.CircleMarker at 0x7f0c3706c278>,\n",
       " <folium.vector_layers.CircleMarker at 0x7f0c3706c2b0>,\n",
       " <folium.vector_layers.CircleMarker at 0x7f0c3706c2e8>,\n",
       " <folium.vector_layers.CircleMarker at 0x7f0c3706c320>,\n",
       " <folium.vector_layers.CircleMarker at 0x7f0c3706c358>,\n",
       " <folium.vector_layers.CircleMarker at 0x7f0c3706c390>,\n",
       " <folium.vector_layers.CircleMarker at 0x7f0c3706c3c8>,\n",
       " <folium.vector_layers.CircleMarker at 0x7f0c3706c400>,\n",
       " <folium.vector_layers.CircleMarker at 0x7f0c3706c438>,\n",
       " <folium.vector_layers.CircleMarker at 0x7f0c3706c470>,\n",
       " <folium.vector_layers.CircleMarker at 0x7f0c3706c4a8>,\n",
       " <folium.vector_layers.CircleMarker at 0x7f0c3706c4e0>,\n",
       " <folium.vector_layers.CircleMarker at 0x7f0c3706c518>,\n",
       " <folium.vector_layers.CircleMarker at 0x7f0c3706c550>,\n",
       " <folium.vector_layers.CircleMarker at 0x7f0c3706c588>,\n",
       " <folium.vector_layers.CircleMarker at 0x7f0c3706c5c0>,\n",
       " <folium.vector_layers.CircleMarker at 0x7f0c3706c5f8>,\n",
       " <folium.vector_layers.CircleMarker at 0x7f0c3706c630>,\n",
       " <folium.vector_layers.CircleMarker at 0x7f0c3706c668>,\n",
       " <folium.vector_layers.CircleMarker at 0x7f0c3706c6a0>,\n",
       " <folium.vector_layers.CircleMarker at 0x7f0c3706c6d8>,\n",
       " <folium.vector_layers.CircleMarker at 0x7f0c3706c710>,\n",
       " <folium.vector_layers.CircleMarker at 0x7f0c3706c748>,\n",
       " <folium.vector_layers.CircleMarker at 0x7f0c3706c780>,\n",
       " <folium.vector_layers.CircleMarker at 0x7f0c3706c7b8>,\n",
       " <folium.vector_layers.CircleMarker at 0x7f0c3706c7f0>,\n",
       " <folium.vector_layers.CircleMarker at 0x7f0c3706c828>,\n",
       " <folium.vector_layers.CircleMarker at 0x7f0c3706c860>,\n",
       " <folium.vector_layers.CircleMarker at 0x7f0c3706c898>,\n",
       " <folium.vector_layers.CircleMarker at 0x7f0c3706c8d0>,\n",
       " <folium.vector_layers.CircleMarker at 0x7f0c3706c908>,\n",
       " <folium.vector_layers.CircleMarker at 0x7f0c3706c940>,\n",
       " <folium.vector_layers.CircleMarker at 0x7f0c3706c978>,\n",
       " <folium.vector_layers.CircleMarker at 0x7f0c3706c9b0>,\n",
       " <folium.vector_layers.CircleMarker at 0x7f0c3706c9e8>,\n",
       " <folium.vector_layers.CircleMarker at 0x7f0c3706ca20>,\n",
       " <folium.vector_layers.CircleMarker at 0x7f0c3706ca58>,\n",
       " <folium.vector_layers.CircleMarker at 0x7f0c3706ca90>,\n",
       " <folium.vector_layers.CircleMarker at 0x7f0c3706cac8>,\n",
       " <folium.vector_layers.CircleMarker at 0x7f0c3706cb00>,\n",
       " <folium.vector_layers.CircleMarker at 0x7f0c3706cb38>,\n",
       " <folium.vector_layers.CircleMarker at 0x7f0c3706cb70>,\n",
       " <folium.vector_layers.CircleMarker at 0x7f0c3706cba8>,\n",
       " <folium.vector_layers.CircleMarker at 0x7f0c3706cbe0>,\n",
       " <folium.vector_layers.CircleMarker at 0x7f0c3706cc18>,\n",
       " <folium.vector_layers.CircleMarker at 0x7f0c3706cc50>,\n",
       " <folium.vector_layers.CircleMarker at 0x7f0c3706cc88>,\n",
       " <folium.vector_layers.CircleMarker at 0x7f0c3706ccc0>,\n",
       " <folium.vector_layers.CircleMarker at 0x7f0c3706ccf8>,\n",
       " <folium.vector_layers.CircleMarker at 0x7f0c3706cd30>,\n",
       " <folium.vector_layers.CircleMarker at 0x7f0c3706cd68>,\n",
       " <folium.vector_layers.CircleMarker at 0x7f0c3706cda0>,\n",
       " <folium.vector_layers.CircleMarker at 0x7f0c3706cdd8>,\n",
       " <folium.vector_layers.CircleMarker at 0x7f0c3706ce10>,\n",
       " <folium.vector_layers.CircleMarker at 0x7f0c3706ce48>,\n",
       " <folium.vector_layers.CircleMarker at 0x7f0c3706ce80>,\n",
       " <folium.vector_layers.CircleMarker at 0x7f0c3706ceb8>,\n",
       " <folium.vector_layers.CircleMarker at 0x7f0c3706cef0>,\n",
       " <folium.vector_layers.CircleMarker at 0x7f0c3706cf28>,\n",
       " <folium.vector_layers.CircleMarker at 0x7f0c3706cf60>,\n",
       " <folium.vector_layers.CircleMarker at 0x7f0c3706cf98>,\n",
       " <folium.vector_layers.CircleMarker at 0x7f0c3706cfd0>,\n",
       " <folium.vector_layers.CircleMarker at 0x7f0c3706c048>,\n",
       " <folium.vector_layers.CircleMarker at 0x7f0c371ba080>,\n",
       " <folium.vector_layers.CircleMarker at 0x7f0c371ba0b8>,\n",
       " <folium.vector_layers.CircleMarker at 0x7f0c371ba0f0>,\n",
       " <folium.vector_layers.CircleMarker at 0x7f0c371ba128>,\n",
       " <folium.vector_layers.CircleMarker at 0x7f0c371ba160>,\n",
       " <folium.vector_layers.CircleMarker at 0x7f0c371ba198>,\n",
       " <folium.vector_layers.CircleMarker at 0x7f0c371ba1d0>,\n",
       " <folium.vector_layers.CircleMarker at 0x7f0c371ba208>,\n",
       " <folium.vector_layers.CircleMarker at 0x7f0c371ba240>,\n",
       " <folium.vector_layers.CircleMarker at 0x7f0c371ba278>,\n",
       " <folium.vector_layers.CircleMarker at 0x7f0c371ba2b0>,\n",
       " <folium.vector_layers.CircleMarker at 0x7f0c371ba2e8>,\n",
       " <folium.vector_layers.CircleMarker at 0x7f0c371ba320>,\n",
       " <folium.vector_layers.CircleMarker at 0x7f0c371ba358>,\n",
       " <folium.vector_layers.CircleMarker at 0x7f0c371ba390>,\n",
       " <folium.vector_layers.CircleMarker at 0x7f0c371ba3c8>,\n",
       " <folium.vector_layers.CircleMarker at 0x7f0c371ba400>,\n",
       " <folium.vector_layers.CircleMarker at 0x7f0c371ba438>,\n",
       " <folium.vector_layers.CircleMarker at 0x7f0c371ba470>,\n",
       " <folium.vector_layers.CircleMarker at 0x7f0c371ba4a8>,\n",
       " <folium.vector_layers.CircleMarker at 0x7f0c371ba4e0>,\n",
       " <folium.vector_layers.CircleMarker at 0x7f0c371ba518>,\n",
       " <folium.vector_layers.CircleMarker at 0x7f0c371ba550>,\n",
       " <folium.vector_layers.CircleMarker at 0x7f0c371ba588>,\n",
       " <folium.vector_layers.CircleMarker at 0x7f0c371ba5c0>,\n",
       " <folium.vector_layers.CircleMarker at 0x7f0c371ba5f8>,\n",
       " <folium.vector_layers.CircleMarker at 0x7f0c371ba630>,\n",
       " <folium.vector_layers.CircleMarker at 0x7f0c371ba668>,\n",
       " <folium.vector_layers.CircleMarker at 0x7f0c371ba6a0>,\n",
       " <folium.vector_layers.CircleMarker at 0x7f0c371ba6d8>,\n",
       " <folium.vector_layers.CircleMarker at 0x7f0c371ba710>,\n",
       " <folium.vector_layers.CircleMarker at 0x7f0c371ba748>,\n",
       " <folium.vector_layers.CircleMarker at 0x7f0c371ba780>,\n",
       " <folium.vector_layers.CircleMarker at 0x7f0c371ba7b8>,\n",
       " <folium.vector_layers.CircleMarker at 0x7f0c371ba7f0>,\n",
       " <folium.vector_layers.CircleMarker at 0x7f0c371ba828>,\n",
       " <folium.vector_layers.CircleMarker at 0x7f0c371ba860>,\n",
       " <folium.vector_layers.CircleMarker at 0x7f0c371ba898>,\n",
       " <folium.vector_layers.CircleMarker at 0x7f0c371ba8d0>,\n",
       " <folium.vector_layers.CircleMarker at 0x7f0c371ba908>,\n",
       " <folium.vector_layers.CircleMarker at 0x7f0c371ba940>,\n",
       " <folium.vector_layers.CircleMarker at 0x7f0c371ba978>,\n",
       " <folium.vector_layers.CircleMarker at 0x7f0c371ba9b0>,\n",
       " <folium.vector_layers.CircleMarker at 0x7f0c371ba9e8>,\n",
       " <folium.vector_layers.CircleMarker at 0x7f0c371baa20>,\n",
       " <folium.vector_layers.CircleMarker at 0x7f0c371baa58>,\n",
       " <folium.vector_layers.CircleMarker at 0x7f0c371baa90>,\n",
       " <folium.vector_layers.CircleMarker at 0x7f0c371baac8>,\n",
       " <folium.vector_layers.CircleMarker at 0x7f0c371bab00>,\n",
       " <folium.vector_layers.CircleMarker at 0x7f0c371bab38>,\n",
       " <folium.vector_layers.CircleMarker at 0x7f0c371bab70>,\n",
       " <folium.vector_layers.CircleMarker at 0x7f0c371baba8>,\n",
       " <folium.vector_layers.CircleMarker at 0x7f0c371babe0>,\n",
       " <folium.vector_layers.CircleMarker at 0x7f0c371bac18>,\n",
       " <folium.vector_layers.CircleMarker at 0x7f0c371bac50>,\n",
       " <folium.vector_layers.CircleMarker at 0x7f0c371bac88>,\n",
       " <folium.vector_layers.CircleMarker at 0x7f0c371bacc0>,\n",
       " <folium.vector_layers.CircleMarker at 0x7f0c371bacf8>,\n",
       " <folium.vector_layers.CircleMarker at 0x7f0c371bad30>,\n",
       " <folium.vector_layers.CircleMarker at 0x7f0c371bad68>,\n",
       " <folium.vector_layers.CircleMarker at 0x7f0c371bada0>,\n",
       " <folium.vector_layers.CircleMarker at 0x7f0c371badd8>,\n",
       " <folium.vector_layers.CircleMarker at 0x7f0c371bae10>,\n",
       " <folium.vector_layers.CircleMarker at 0x7f0c371bae48>,\n",
       " <folium.vector_layers.CircleMarker at 0x7f0c371bae80>,\n",
       " <folium.vector_layers.CircleMarker at 0x7f0c371baeb8>,\n",
       " <folium.vector_layers.CircleMarker at 0x7f0c371baef0>,\n",
       " <folium.vector_layers.CircleMarker at 0x7f0c371baf28>,\n",
       " <folium.vector_layers.CircleMarker at 0x7f0c371baf60>,\n",
       " <folium.vector_layers.CircleMarker at 0x7f0c371baf98>,\n",
       " <folium.vector_layers.CircleMarker at 0x7f0c371bafd0>,\n",
       " <folium.vector_layers.CircleMarker at 0x7f0c371ba048>,\n",
       " <folium.vector_layers.CircleMarker at 0x7f0c371c9080>,\n",
       " <folium.vector_layers.CircleMarker at 0x7f0c371c90b8>,\n",
       " <folium.vector_layers.CircleMarker at 0x7f0c371c90f0>,\n",
       " <folium.vector_layers.CircleMarker at 0x7f0c371c9128>,\n",
       " <folium.vector_layers.CircleMarker at 0x7f0c371c9160>,\n",
       " <folium.vector_layers.CircleMarker at 0x7f0c371c9198>,\n",
       " <folium.vector_layers.CircleMarker at 0x7f0c371c91d0>,\n",
       " <folium.vector_layers.CircleMarker at 0x7f0c371c9208>,\n",
       " <folium.vector_layers.CircleMarker at 0x7f0c371c9240>,\n",
       " <folium.vector_layers.CircleMarker at 0x7f0c371c9278>,\n",
       " <folium.vector_layers.CircleMarker at 0x7f0c371c92b0>,\n",
       " <folium.vector_layers.CircleMarker at 0x7f0c371c92e8>,\n",
       " <folium.vector_layers.CircleMarker at 0x7f0c371c9320>,\n",
       " <folium.vector_layers.CircleMarker at 0x7f0c371c9358>,\n",
       " <folium.vector_layers.CircleMarker at 0x7f0c371c9390>,\n",
       " <folium.vector_layers.CircleMarker at 0x7f0c371c93c8>,\n",
       " <folium.vector_layers.CircleMarker at 0x7f0c371c9400>,\n",
       " <folium.vector_layers.CircleMarker at 0x7f0c371c9438>,\n",
       " <folium.vector_layers.CircleMarker at 0x7f0c371c9470>,\n",
       " <folium.vector_layers.CircleMarker at 0x7f0c371c94a8>,\n",
       " <folium.vector_layers.CircleMarker at 0x7f0c371c94e0>,\n",
       " <folium.vector_layers.CircleMarker at 0x7f0c371c9518>,\n",
       " <folium.vector_layers.CircleMarker at 0x7f0c371c9550>,\n",
       " <folium.vector_layers.CircleMarker at 0x7f0c371c9588>,\n",
       " <folium.vector_layers.CircleMarker at 0x7f0c371c95c0>,\n",
       " <folium.vector_layers.CircleMarker at 0x7f0c371c95f8>,\n",
       " <folium.vector_layers.CircleMarker at 0x7f0c371c9630>,\n",
       " <folium.vector_layers.CircleMarker at 0x7f0c371c9668>,\n",
       " <folium.vector_layers.CircleMarker at 0x7f0c371c96a0>,\n",
       " <folium.vector_layers.CircleMarker at 0x7f0c371c96d8>,\n",
       " <folium.vector_layers.CircleMarker at 0x7f0c371c9710>,\n",
       " <folium.vector_layers.CircleMarker at 0x7f0c371c9748>,\n",
       " <folium.vector_layers.CircleMarker at 0x7f0c371c9780>,\n",
       " <folium.vector_layers.CircleMarker at 0x7f0c371c97b8>,\n",
       " <folium.vector_layers.CircleMarker at 0x7f0c371c97f0>,\n",
       " <folium.vector_layers.CircleMarker at 0x7f0c371c9828>,\n",
       " <folium.vector_layers.CircleMarker at 0x7f0c371c9860>,\n",
       " <folium.vector_layers.CircleMarker at 0x7f0c371c9898>,\n",
       " <folium.vector_layers.CircleMarker at 0x7f0c371c98d0>,\n",
       " <folium.vector_layers.CircleMarker at 0x7f0c371c9908>,\n",
       " <folium.vector_layers.CircleMarker at 0x7f0c371c9940>,\n",
       " <folium.vector_layers.CircleMarker at 0x7f0c371c9978>,\n",
       " <folium.vector_layers.CircleMarker at 0x7f0c371c99b0>,\n",
       " <folium.vector_layers.CircleMarker at 0x7f0c371c99e8>,\n",
       " <folium.vector_layers.CircleMarker at 0x7f0c371c9a20>,\n",
       " <folium.vector_layers.CircleMarker at 0x7f0c371c9a58>,\n",
       " <folium.vector_layers.CircleMarker at 0x7f0c371c9a90>,\n",
       " <folium.vector_layers.CircleMarker at 0x7f0c371c9ac8>,\n",
       " <folium.vector_layers.CircleMarker at 0x7f0c371c9b00>,\n",
       " <folium.vector_layers.CircleMarker at 0x7f0c371c9b38>,\n",
       " <folium.vector_layers.CircleMarker at 0x7f0c371c9b70>,\n",
       " <folium.vector_layers.CircleMarker at 0x7f0c371c9ba8>,\n",
       " <folium.vector_layers.CircleMarker at 0x7f0c371c9be0>,\n",
       " <folium.vector_layers.CircleMarker at 0x7f0c371c9c18>,\n",
       " <folium.vector_layers.CircleMarker at 0x7f0c371c9c50>,\n",
       " <folium.vector_layers.CircleMarker at 0x7f0c371c9c88>,\n",
       " <folium.vector_layers.CircleMarker at 0x7f0c371c9cc0>,\n",
       " <folium.vector_layers.CircleMarker at 0x7f0c371c9cf8>,\n",
       " <folium.vector_layers.CircleMarker at 0x7f0c371c9d30>,\n",
       " <folium.vector_layers.CircleMarker at 0x7f0c371c9d68>,\n",
       " <folium.vector_layers.CircleMarker at 0x7f0c371c9da0>,\n",
       " <folium.vector_layers.CircleMarker at 0x7f0c371c9dd8>,\n",
       " <folium.vector_layers.CircleMarker at 0x7f0c371c9e10>,\n",
       " <folium.vector_layers.CircleMarker at 0x7f0c371c9e48>,\n",
       " <folium.vector_layers.CircleMarker at 0x7f0c371c9e80>,\n",
       " <folium.vector_layers.CircleMarker at 0x7f0c371c9eb8>,\n",
       " <folium.vector_layers.CircleMarker at 0x7f0c371c9ef0>,\n",
       " <folium.vector_layers.CircleMarker at 0x7f0c371c9f28>,\n",
       " <folium.vector_layers.CircleMarker at 0x7f0c371c9f60>,\n",
       " <folium.vector_layers.CircleMarker at 0x7f0c371c9f98>,\n",
       " <folium.vector_layers.CircleMarker at 0x7f0c371c9fd0>,\n",
       " <folium.vector_layers.CircleMarker at 0x7f0c371c9048>,\n",
       " <folium.vector_layers.CircleMarker at 0x7f0c371d9080>,\n",
       " <folium.vector_layers.CircleMarker at 0x7f0c371d90b8>,\n",
       " <folium.vector_layers.CircleMarker at 0x7f0c371d90f0>,\n",
       " <folium.vector_layers.CircleMarker at 0x7f0c371d9128>,\n",
       " <folium.vector_layers.CircleMarker at 0x7f0c371d9160>,\n",
       " <folium.vector_layers.CircleMarker at 0x7f0c371d9198>,\n",
       " <folium.vector_layers.CircleMarker at 0x7f0c371d91d0>,\n",
       " <folium.vector_layers.CircleMarker at 0x7f0c371d9208>,\n",
       " <folium.vector_layers.CircleMarker at 0x7f0c371d9240>,\n",
       " <folium.vector_layers.CircleMarker at 0x7f0c371d9278>,\n",
       " <folium.vector_layers.CircleMarker at 0x7f0c371d92b0>,\n",
       " <folium.vector_layers.CircleMarker at 0x7f0c371d92e8>,\n",
       " <folium.vector_layers.CircleMarker at 0x7f0c371d9320>,\n",
       " <folium.vector_layers.CircleMarker at 0x7f0c371d9358>,\n",
       " <folium.vector_layers.CircleMarker at 0x7f0c371d9390>,\n",
       " <folium.vector_layers.CircleMarker at 0x7f0c371d93c8>,\n",
       " <folium.vector_layers.CircleMarker at 0x7f0c371d9400>,\n",
       " <folium.vector_layers.CircleMarker at 0x7f0c371d9438>,\n",
       " <folium.vector_layers.CircleMarker at 0x7f0c371d9470>,\n",
       " <folium.vector_layers.CircleMarker at 0x7f0c371d94a8>,\n",
       " <folium.vector_layers.CircleMarker at 0x7f0c371d94e0>,\n",
       " <folium.vector_layers.CircleMarker at 0x7f0c371d9518>,\n",
       " <folium.vector_layers.CircleMarker at 0x7f0c371d9550>,\n",
       " <folium.vector_layers.CircleMarker at 0x7f0c371d9588>,\n",
       " <folium.vector_layers.CircleMarker at 0x7f0c371d95c0>,\n",
       " <folium.vector_layers.CircleMarker at 0x7f0c371d95f8>,\n",
       " <folium.vector_layers.CircleMarker at 0x7f0c371d9630>,\n",
       " <folium.vector_layers.CircleMarker at 0x7f0c371d9668>,\n",
       " <folium.vector_layers.CircleMarker at 0x7f0c371d96a0>,\n",
       " <folium.vector_layers.CircleMarker at 0x7f0c371d96d8>,\n",
       " <folium.vector_layers.CircleMarker at 0x7f0c371d9710>,\n",
       " <folium.vector_layers.CircleMarker at 0x7f0c371d9748>,\n",
       " <folium.vector_layers.CircleMarker at 0x7f0c371d9780>,\n",
       " <folium.vector_layers.CircleMarker at 0x7f0c371d97b8>,\n",
       " <folium.vector_layers.CircleMarker at 0x7f0c371d97f0>,\n",
       " <folium.vector_layers.CircleMarker at 0x7f0c371d9828>,\n",
       " <folium.vector_layers.CircleMarker at 0x7f0c371d9860>,\n",
       " <folium.vector_layers.CircleMarker at 0x7f0c371d9898>,\n",
       " <folium.vector_layers.CircleMarker at 0x7f0c371d98d0>,\n",
       " <folium.vector_layers.CircleMarker at 0x7f0c371d9908>,\n",
       " <folium.vector_layers.CircleMarker at 0x7f0c371d9940>,\n",
       " <folium.vector_layers.CircleMarker at 0x7f0c371d9978>,\n",
       " <folium.vector_layers.CircleMarker at 0x7f0c371d99b0>,\n",
       " <folium.vector_layers.CircleMarker at 0x7f0c371d99e8>,\n",
       " <folium.vector_layers.CircleMarker at 0x7f0c371d9a20>,\n",
       " <folium.vector_layers.CircleMarker at 0x7f0c371d9a58>,\n",
       " <folium.vector_layers.CircleMarker at 0x7f0c371d9a90>,\n",
       " <folium.vector_layers.CircleMarker at 0x7f0c371d9ac8>,\n",
       " <folium.vector_layers.CircleMarker at 0x7f0c371d9b00>,\n",
       " <folium.vector_layers.CircleMarker at 0x7f0c371d9b38>,\n",
       " <folium.vector_layers.CircleMarker at 0x7f0c371d9b70>,\n",
       " <folium.vector_layers.CircleMarker at 0x7f0c371d9ba8>,\n",
       " <folium.vector_layers.CircleMarker at 0x7f0c371d9be0>,\n",
       " <folium.vector_layers.CircleMarker at 0x7f0c371d9c18>,\n",
       " <folium.vector_layers.CircleMarker at 0x7f0c371d9c50>,\n",
       " <folium.vector_layers.CircleMarker at 0x7f0c371d9c88>,\n",
       " <folium.vector_layers.CircleMarker at 0x7f0c371d9cc0>,\n",
       " <folium.vector_layers.CircleMarker at 0x7f0c371d9cf8>,\n",
       " <folium.vector_layers.CircleMarker at 0x7f0c371d9d30>,\n",
       " <folium.vector_layers.CircleMarker at 0x7f0c371d9d68>,\n",
       " <folium.vector_layers.CircleMarker at 0x7f0c371d9da0>,\n",
       " <folium.vector_layers.CircleMarker at 0x7f0c371d9dd8>,\n",
       " <folium.vector_layers.CircleMarker at 0x7f0c371d9e10>,\n",
       " <folium.vector_layers.CircleMarker at 0x7f0c371d9e48>,\n",
       " <folium.vector_layers.CircleMarker at 0x7f0c371d9e80>,\n",
       " <folium.vector_layers.CircleMarker at 0x7f0c371d9eb8>,\n",
       " <folium.vector_layers.CircleMarker at 0x7f0c371d9ef0>,\n",
       " <folium.vector_layers.CircleMarker at 0x7f0c371d9f28>,\n",
       " <folium.vector_layers.CircleMarker at 0x7f0c371d9f60>,\n",
       " <folium.vector_layers.CircleMarker at 0x7f0c371d9f98>,\n",
       " <folium.vector_layers.CircleMarker at 0x7f0c371d9fd0>,\n",
       " <folium.vector_layers.CircleMarker at 0x7f0c371d9048>,\n",
       " <folium.vector_layers.CircleMarker at 0x7f0c371e4080>,\n",
       " <folium.vector_layers.CircleMarker at 0x7f0c371e40b8>,\n",
       " <folium.vector_layers.CircleMarker at 0x7f0c371e40f0>,\n",
       " <folium.vector_layers.CircleMarker at 0x7f0c371e4128>,\n",
       " <folium.vector_layers.CircleMarker at 0x7f0c371e4160>,\n",
       " <folium.vector_layers.CircleMarker at 0x7f0c371e4198>,\n",
       " <folium.vector_layers.CircleMarker at 0x7f0c371e41d0>,\n",
       " <folium.vector_layers.CircleMarker at 0x7f0c371e4208>,\n",
       " <folium.vector_layers.CircleMarker at 0x7f0c371e4240>,\n",
       " <folium.vector_layers.CircleMarker at 0x7f0c371e4278>,\n",
       " <folium.vector_layers.CircleMarker at 0x7f0c371e42b0>,\n",
       " <folium.vector_layers.CircleMarker at 0x7f0c371e42e8>,\n",
       " <folium.vector_layers.CircleMarker at 0x7f0c371e4320>,\n",
       " <folium.vector_layers.CircleMarker at 0x7f0c371e4358>,\n",
       " <folium.vector_layers.CircleMarker at 0x7f0c371e4390>,\n",
       " <folium.vector_layers.CircleMarker at 0x7f0c371e43c8>,\n",
       " <folium.vector_layers.CircleMarker at 0x7f0c371e4400>,\n",
       " <folium.vector_layers.CircleMarker at 0x7f0c371e4438>,\n",
       " <folium.vector_layers.CircleMarker at 0x7f0c371e4470>,\n",
       " <folium.vector_layers.CircleMarker at 0x7f0c371e44a8>,\n",
       " <folium.vector_layers.CircleMarker at 0x7f0c371e44e0>,\n",
       " <folium.vector_layers.CircleMarker at 0x7f0c371e4518>,\n",
       " <folium.vector_layers.CircleMarker at 0x7f0c371e4550>,\n",
       " <folium.vector_layers.CircleMarker at 0x7f0c371e4588>,\n",
       " <folium.vector_layers.CircleMarker at 0x7f0c371e45c0>,\n",
       " <folium.vector_layers.CircleMarker at 0x7f0c371e45f8>,\n",
       " <folium.vector_layers.CircleMarker at 0x7f0c371e4630>,\n",
       " <folium.vector_layers.CircleMarker at 0x7f0c371e4668>,\n",
       " <folium.vector_layers.CircleMarker at 0x7f0c371e46a0>,\n",
       " <folium.vector_layers.CircleMarker at 0x7f0c371e46d8>,\n",
       " <folium.vector_layers.CircleMarker at 0x7f0c371e4710>,\n",
       " <folium.vector_layers.CircleMarker at 0x7f0c371e4748>,\n",
       " <folium.vector_layers.CircleMarker at 0x7f0c371e4780>,\n",
       " <folium.vector_layers.CircleMarker at 0x7f0c371e47b8>,\n",
       " <folium.vector_layers.CircleMarker at 0x7f0c371e47f0>,\n",
       " <folium.vector_layers.CircleMarker at 0x7f0c371e4828>,\n",
       " <folium.vector_layers.CircleMarker at 0x7f0c371e4860>,\n",
       " <folium.vector_layers.CircleMarker at 0x7f0c371e4898>,\n",
       " <folium.vector_layers.CircleMarker at 0x7f0c371e48d0>,\n",
       " <folium.vector_layers.CircleMarker at 0x7f0c371e4908>,\n",
       " <folium.vector_layers.CircleMarker at 0x7f0c371e4940>,\n",
       " <folium.vector_layers.CircleMarker at 0x7f0c371e4978>,\n",
       " <folium.vector_layers.CircleMarker at 0x7f0c371e49b0>,\n",
       " <folium.vector_layers.CircleMarker at 0x7f0c371e49e8>,\n",
       " <folium.vector_layers.CircleMarker at 0x7f0c371e4a20>,\n",
       " <folium.vector_layers.CircleMarker at 0x7f0c371e4a58>,\n",
       " <folium.vector_layers.CircleMarker at 0x7f0c371e4a90>,\n",
       " <folium.vector_layers.CircleMarker at 0x7f0c371e4ac8>,\n",
       " <folium.vector_layers.CircleMarker at 0x7f0c371e4b00>,\n",
       " <folium.vector_layers.CircleMarker at 0x7f0c371e4b38>,\n",
       " <folium.vector_layers.CircleMarker at 0x7f0c371e4b70>,\n",
       " <folium.vector_layers.CircleMarker at 0x7f0c371e4ba8>,\n",
       " <folium.vector_layers.CircleMarker at 0x7f0c371e4be0>,\n",
       " <folium.vector_layers.CircleMarker at 0x7f0c371e4c18>,\n",
       " <folium.vector_layers.CircleMarker at 0x7f0c371e4c50>,\n",
       " <folium.vector_layers.CircleMarker at 0x7f0c371e4c88>,\n",
       " <folium.vector_layers.CircleMarker at 0x7f0c371e4cc0>,\n",
       " <folium.vector_layers.CircleMarker at 0x7f0c371e4cf8>,\n",
       " <folium.vector_layers.CircleMarker at 0x7f0c371e4d30>,\n",
       " <folium.vector_layers.CircleMarker at 0x7f0c371e4d68>,\n",
       " <folium.vector_layers.CircleMarker at 0x7f0c371e4da0>,\n",
       " <folium.vector_layers.CircleMarker at 0x7f0c371e4dd8>,\n",
       " <folium.vector_layers.CircleMarker at 0x7f0c371e4e10>,\n",
       " <folium.vector_layers.CircleMarker at 0x7f0c371e4e48>,\n",
       " <folium.vector_layers.CircleMarker at 0x7f0c371e4e80>,\n",
       " <folium.vector_layers.CircleMarker at 0x7f0c371e4eb8>,\n",
       " <folium.vector_layers.CircleMarker at 0x7f0c371e4ef0>,\n",
       " <folium.vector_layers.CircleMarker at 0x7f0c371e4f28>,\n",
       " <folium.vector_layers.CircleMarker at 0x7f0c371e4f60>,\n",
       " <folium.vector_layers.CircleMarker at 0x7f0c371e4f98>,\n",
       " <folium.vector_layers.CircleMarker at 0x7f0c371e4fd0>,\n",
       " <folium.vector_layers.CircleMarker at 0x7f0c371e4048>,\n",
       " <folium.vector_layers.CircleMarker at 0x7f0c37174080>,\n",
       " <folium.vector_layers.CircleMarker at 0x7f0c371740b8>,\n",
       " <folium.vector_layers.CircleMarker at 0x7f0c371740f0>,\n",
       " <folium.vector_layers.CircleMarker at 0x7f0c37174128>,\n",
       " <folium.vector_layers.CircleMarker at 0x7f0c37174160>,\n",
       " <folium.vector_layers.CircleMarker at 0x7f0c37174198>,\n",
       " <folium.vector_layers.CircleMarker at 0x7f0c371741d0>,\n",
       " <folium.vector_layers.CircleMarker at 0x7f0c37174208>,\n",
       " <folium.vector_layers.CircleMarker at 0x7f0c37174240>,\n",
       " <folium.vector_layers.CircleMarker at 0x7f0c37174278>,\n",
       " <folium.vector_layers.CircleMarker at 0x7f0c371742b0>,\n",
       " <folium.vector_layers.CircleMarker at 0x7f0c371742e8>,\n",
       " <folium.vector_layers.CircleMarker at 0x7f0c37174320>,\n",
       " <folium.vector_layers.CircleMarker at 0x7f0c37174358>,\n",
       " <folium.vector_layers.CircleMarker at 0x7f0c37174390>,\n",
       " <folium.vector_layers.CircleMarker at 0x7f0c371743c8>,\n",
       " <folium.vector_layers.CircleMarker at 0x7f0c37174400>,\n",
       " <folium.vector_layers.CircleMarker at 0x7f0c37174438>,\n",
       " <folium.vector_layers.CircleMarker at 0x7f0c37174470>,\n",
       " <folium.vector_layers.CircleMarker at 0x7f0c371744a8>,\n",
       " <folium.vector_layers.CircleMarker at 0x7f0c371744e0>,\n",
       " <folium.vector_layers.CircleMarker at 0x7f0c37174518>,\n",
       " <folium.vector_layers.CircleMarker at 0x7f0c37174550>,\n",
       " <folium.vector_layers.CircleMarker at 0x7f0c37174588>,\n",
       " <folium.vector_layers.CircleMarker at 0x7f0c371745c0>,\n",
       " <folium.vector_layers.CircleMarker at 0x7f0c371745f8>,\n",
       " <folium.vector_layers.CircleMarker at 0x7f0c37174630>,\n",
       " <folium.vector_layers.CircleMarker at 0x7f0c37174668>,\n",
       " <folium.vector_layers.CircleMarker at 0x7f0c371746a0>,\n",
       " <folium.vector_layers.CircleMarker at 0x7f0c371746d8>,\n",
       " <folium.vector_layers.CircleMarker at 0x7f0c37174710>,\n",
       " <folium.vector_layers.CircleMarker at 0x7f0c37174748>,\n",
       " <folium.vector_layers.CircleMarker at 0x7f0c37174780>,\n",
       " <folium.vector_layers.CircleMarker at 0x7f0c371747b8>,\n",
       " <folium.vector_layers.CircleMarker at 0x7f0c371747f0>,\n",
       " <folium.vector_layers.CircleMarker at 0x7f0c37174828>,\n",
       " <folium.vector_layers.CircleMarker at 0x7f0c37174860>,\n",
       " <folium.vector_layers.CircleMarker at 0x7f0c37174898>,\n",
       " <folium.vector_layers.CircleMarker at 0x7f0c371748d0>,\n",
       " <folium.vector_layers.CircleMarker at 0x7f0c37174908>,\n",
       " <folium.vector_layers.CircleMarker at 0x7f0c37174940>,\n",
       " <folium.vector_layers.CircleMarker at 0x7f0c37174978>,\n",
       " <folium.vector_layers.CircleMarker at 0x7f0c371749b0>,\n",
       " <folium.vector_layers.CircleMarker at 0x7f0c371749e8>,\n",
       " <folium.vector_layers.CircleMarker at 0x7f0c37174a20>,\n",
       " <folium.vector_layers.CircleMarker at 0x7f0c37174a58>,\n",
       " <folium.vector_layers.CircleMarker at 0x7f0c37174a90>,\n",
       " <folium.vector_layers.CircleMarker at 0x7f0c37174ac8>,\n",
       " <folium.vector_layers.CircleMarker at 0x7f0c37174b00>,\n",
       " <folium.vector_layers.CircleMarker at 0x7f0c37174b38>,\n",
       " <folium.vector_layers.CircleMarker at 0x7f0c37174b70>,\n",
       " <folium.vector_layers.CircleMarker at 0x7f0c37174ba8>,\n",
       " <folium.vector_layers.CircleMarker at 0x7f0c37174be0>,\n",
       " <folium.vector_layers.CircleMarker at 0x7f0c37174c18>,\n",
       " <folium.vector_layers.CircleMarker at 0x7f0c37174c50>,\n",
       " <folium.vector_layers.CircleMarker at 0x7f0c37174c88>,\n",
       " <folium.vector_layers.CircleMarker at 0x7f0c37174cc0>,\n",
       " <folium.vector_layers.CircleMarker at 0x7f0c37174cf8>,\n",
       " <folium.vector_layers.CircleMarker at 0x7f0c37174d30>]"
      ]
     },
     "execution_count": 209,
     "metadata": {},
     "output_type": "execute_result"
    }
   ],
   "source": [
    "map_with_markers"
   ]
  },
  {
   "cell_type": "markdown",
   "metadata": {},
   "source": [
    "### Using Nearest Neighbors"
   ]
  },
  {
   "cell_type": "markdown",
   "metadata": {},
   "source": [
    "Ok, let's write a function that given a latitude and longitude will predict the distance for us.  We'll do this by first finding the nearest trips given a latitude and longitude. "
   ]
  },
  {
   "cell_type": "markdown",
   "metadata": {},
   "source": [
    "Here we once again apply the nearest neighbors formula. As a first step, write a function named `distance_location` that calculates the distance in pickup location between two trips."
   ]
  },
  {
   "cell_type": "code",
   "execution_count": null,
   "metadata": {},
   "outputs": [],
   "source": [
    "import math\n",
    "\n",
    "def distance_location(selected_trip, neighbor_trip):\n",
    "    pass"
   ]
  },
  {
   "cell_type": "code",
   "execution_count": null,
   "metadata": {},
   "outputs": [],
   "source": [
    "first_trip = {'pickup_latitude': 40.64499, 'pickup_longitude': -73.78115, 'trip_distance': 18.38}\n",
    "second_trip = {'pickup_latitude': 40.766931, 'pickup_longitude': -73.982098, 'trip_distance': 1.3}\n",
    "distance_first_and_second = distance_location(first_trip, second_trip)\n",
    "\n",
    "distance_first_and_second and round(distance_first_and_second, 3) # 0.235"
   ]
  },
  {
   "cell_type": "markdown",
   "metadata": {},
   "source": [
    "Ok, next write a function called `distance_between_neighbors` that adds a new key-value pair, called `distance_from_selected`, that calculates the distance of the `neighbor_trip` from the `selected_trip`."
   ]
  },
  {
   "cell_type": "code",
   "execution_count": null,
   "metadata": {},
   "outputs": [],
   "source": [
    "def distance_between_neighbors(selected_trip, neighbor_trip):\n",
    "    pass"
   ]
  },
  {
   "cell_type": "code",
   "execution_count": null,
   "metadata": {},
   "outputs": [],
   "source": [
    "distance_between_neighbors(first_trip, second_trip)\n",
    "\n",
    "# {'distance_from_selected': 0.23505256047318146,\n",
    "#  'pickup_latitude': 40.766931,\n",
    "#  'pickup_longitude': -73.982098,\n",
    "#  'trip_distance': 1.3}"
   ]
  },
  {
   "cell_type": "markdown",
   "metadata": {},
   "source": [
    "Ok, now our `neighbor_trip` has another attribute called `distance_from_selected`, that indicates the distance from the `neighbor_trip`'s pickup location from the `selected_trip`."
   ]
  },
  {
   "cell_type": "markdown",
   "metadata": {},
   "source": [
    "> ** Understand the data:** Our dictionary now has a few attributes, two of which say distance.  Let's make sure we understand the difference. \n",
    "> * **`distance_from_selected`:** This is our calculation of the distance of the neighbor's pickup location from the selected trip.\n",
    "> * **`trip_distance`:** This is the attribute we were provided initially.  It tells us the length of the neighbor's taxi trip from pickup to drop-off.  "
   ]
  },
  {
   "cell_type": "markdown",
   "metadata": {},
   "source": [
    "Next, write a function called `distance_all` that provided a list of neighbors, returns each of those neighbors with their respective `distance_from_selected` numbers."
   ]
  },
  {
   "cell_type": "code",
   "execution_count": null,
   "metadata": {},
   "outputs": [],
   "source": [
    "def distance_all(selected_individual, neighbors):\n",
    "    pass"
   ]
  },
  {
   "cell_type": "code",
   "execution_count": null,
   "metadata": {},
   "outputs": [],
   "source": [
    "cleaned_trips and distance_all(first_trip, cleaned_trips[0:4])"
   ]
  },
  {
   "cell_type": "markdown",
   "metadata": {},
   "source": [
    "Now write the nearest neighbors formula to calculate the distance of the `selected_trip` from all of the `cleaned_trips` in our dataset.  If no number is provided, it should return the top 3 neighbors."
   ]
  },
  {
   "cell_type": "code",
   "execution_count": null,
   "metadata": {},
   "outputs": [],
   "source": [
    "def nearest_neighbors(selected_trip, trips, number = 3):\n",
    "    pass"
   ]
  },
  {
   "cell_type": "code",
   "execution_count": null,
   "metadata": {},
   "outputs": [],
   "source": [
    "new_trip = {'pickup_latitude': 40.64499,\n",
    "'pickup_longitude': -73.78115,\n",
    "'trip_distance': 18.38}\n",
    "\n",
    "nearest_three_neighbors = nearest_neighbors(new_trip, cleaned_trips or [], number = 3)\n",
    "nearest_three_neighbors\n",
    "# [{'distance_from_selected': 0.0004569288784918792,\n",
    "#   'pickup_latitude': 40.64483,\n",
    "#   'pickup_longitude': -73.781578,\n",
    "#   'trip_distance': 7.78},\n",
    "#  {'distance_from_selected': 0.0011292165425673159,\n",
    "#   'pickup_latitude': 40.644657,\n",
    "#   'pickup_longitude': -73.782229,\n",
    "#   'trip_distance': 12.7},\n",
    "#  {'distance_from_selected': 0.0042359798158141185,\n",
    "#   'pickup_latitude': 40.648509,\n",
    "#   'pickup_longitude': -73.783508,\n",
    "#   'trip_distance': 17.3}]"
   ]
  },
  {
   "cell_type": "markdown",
   "metadata": {},
   "source": [
    "Ok great! Now that we can provide a new trip location, and find the distances of the three nearest trips, we can take  calculate an estimate of the trip distance for that new trip location.  \n",
    "\n",
    "We do so simply by calculating the average of it's nearest neighbors."
   ]
  },
  {
   "cell_type": "code",
   "execution_count": null,
   "metadata": {},
   "outputs": [],
   "source": [
    "import statistics\n",
    "def mean_distance(neighbors):\n",
    "    nearest_distances = list(map(lambda neighbor: neighbor['trip_distance'], neighbors))\n",
    "    return round(statistics.mean(nearest_distances), 3)\n",
    "\n",
    "nearest_three_neighbors = nearest_neighbors(new_trip, cleaned_trips or [], number = 3)\n",
    "distance_estimate_of_selected_trip = mean_distance(nearest_three_neighbors) # 12.593\n",
    "distance_estimate_of_selected_trip"
   ]
  },
  {
   "cell_type": "markdown",
   "metadata": {},
   "source": [
    "### Choosing the correct number of neighbors"
   ]
  },
  {
   "cell_type": "markdown",
   "metadata": {},
   "source": [
    "Now, as we know from the last lesson, one tricky element is to determine how many neighbors to choose, our $k$ value,  before calculating the average.  We want to choose our value of $k$ such that it properly matches actual data, and so that it applies to new data.  There are fancy formulas to ensure that we **train** our algorithm so that our formula is optimized for all data, but here let's see different $k$ values manually.  This is the gist of choosing our $k$ value:\n",
    "\n",
    "* If we choose a $k$ value too low, our formula will be too heavily influenced by a single neighbor, whereas if our $k$ value is too high, we will be choosing so many neighbors that our nearest neighbors formula will not be adjust enough according to locations.\n",
    "\n",
    "Ok, let's experiment with this."
   ]
  },
  {
   "cell_type": "markdown",
   "metadata": {},
   "source": [
    "First, let's choose a midtown location, to see what the trip distance would be.  A Google search reveals the coordinates of 51st and 7th avenue to be the following."
   ]
  },
  {
   "cell_type": "code",
   "execution_count": null,
   "metadata": {},
   "outputs": [],
   "source": [
    "midtown_trip = dict(pickup_latitude=40.761710, pickup_longitude=-73.982760)"
   ]
  },
  {
   "cell_type": "code",
   "execution_count": null,
   "metadata": {},
   "outputs": [],
   "source": [
    "seven_closest = nearest_neighbors(midtown_trip, cleaned_trips, number = 7)\n",
    "seven_closest\n",
    "# [{'trip_distance': 0.58,\n",
    "#   'pickup_latitude': 40.761372,\n",
    "#   'pickup_longitude': -73.982602,\n",
    "#   'distance_from_selected': 0.00037310588309379025},\n",
    "#  {'trip_distance': 0.8,\n",
    "#   'pickup_latitude': 40.762444,\n",
    "#   'pickup_longitude': -73.98244,\n",
    "#   'distance_from_selected': 0.00080072217404248},\n",
    "#  {'trip_distance': 1.4,\n",
    "#   'pickup_latitude': 40.762767,\n",
    "#   'pickup_longitude': -73.982293,\n",
    "#   'distance_from_selected': 0.0011555682584735844},\n",
    "#  {'trip_distance': 8.3,\n",
    "#   'pickup_latitude': 40.762868,\n",
    "#   'pickup_longitude': -73.983233,\n",
    "#   'distance_from_selected': 0.0012508768924205918},\n",
    "#  {'trip_distance': 1.26,\n",
    "#   'pickup_latitude': 40.760057,\n",
    "#   'pickup_longitude': -73.983502,\n",
    "#   'distance_from_selected': 0.0018118976240381972},\n",
    "#  {'trip_distance': 0.0,\n",
    "#   'pickup_latitude': 40.760644,\n",
    "#   'pickup_longitude': -73.984531,\n",
    "#   'distance_from_selected': 0.002067074502774709},\n",
    "#  {'trip_distance': 1.72,\n",
    "#   'pickup_latitude': 40.762107,\n",
    "#   'pickup_longitude': -73.98479,\n",
    "#   'distance_from_selected': 0.0020684557041472677}]"
   ]
  },
  {
   "cell_type": "markdown",
   "metadata": {},
   "source": [
    "Looking at the `distance_from_selected` it appears that our our trips are still fairly close to our selected trip.  Notice that most of the data is within a distance of .002 away, so going to the top 7 nearest neighbors didn't seem to give us neighbors too far from each other, which is a good sign.\n",
    "\n",
    "Still, it's hard to know what distance in latitude and longitude really look like, so let's map the data. "
   ]
  },
  {
   "cell_type": "code",
   "execution_count": null,
   "metadata": {},
   "outputs": [],
   "source": [
    "midtown_location = location(midtown_trip) # [40.76171, -73.98276]\n",
    "midtown_map = map_from(midtown_location, 16)\n",
    "closest_markers = markers_from_trips(seven_closest)\n",
    "\n",
    "add_markers(closest_markers, midtown_map)"
   ]
  },
  {
   "cell_type": "markdown",
   "metadata": {},
   "source": [
    "Ok.  These locations stay fairly close to our estimated location of 51st street and 7th Avenue.  So they could be a good estimate of a trip distance."
   ]
  },
  {
   "cell_type": "code",
   "execution_count": null,
   "metadata": {},
   "outputs": [],
   "source": [
    "mean_distance(seven_closest) # 2.009"
   ]
  },
  {
   "cell_type": "markdown",
   "metadata": {},
   "source": [
    "Ok, now let's try a different location"
   ]
  },
  {
   "cell_type": "code",
   "execution_count": null,
   "metadata": {},
   "outputs": [],
   "source": [
    "charging_bull_closest = nearest_neighbors({'pickup_latitude': 40.7049, 'pickup_longitude': -74.0137}, cleaned_trips, number = 12)"
   ]
  },
  {
   "cell_type": "code",
   "execution_count": null,
   "metadata": {
    "scrolled": true
   },
   "outputs": [],
   "source": [
    "mean_distance(charging_bull_closest) # 3.145"
   ]
  },
  {
   "cell_type": "markdown",
   "metadata": {},
   "source": [
    "Ok, so there appears to be a significant difference between choosing a location near Times Square versus choosing a location at Wall Street."
   ]
  },
  {
   "cell_type": "markdown",
   "metadata": {},
   "source": [
    "### Summary"
   ]
  },
  {
   "cell_type": "markdown",
   "metadata": {},
   "source": [
    "In this lab, we used the nearest neighbors function to predict the length of a taxi ride.  To do so, we selected a location, then found a number of taxi rides closest to that location, and finally took the average trip lengths of the nearest taxi rides to find an estimate of the new ride's trip length.  You can see that even with just a little bit of math and programming we can begin to make meaningful predictions with data."
   ]
  }
 ],
 "metadata": {
  "kernelspec": {
   "display_name": "Python 3",
   "language": "python",
   "name": "python3"
  },
  "language_info": {
   "codemirror_mode": {
    "name": "ipython",
    "version": 3
   },
   "file_extension": ".py",
   "mimetype": "text/x-python",
   "name": "python",
   "nbconvert_exporter": "python",
   "pygments_lexer": "ipython3",
   "version": "3.6.9"
  }
 },
 "nbformat": 4,
 "nbformat_minor": 2
}
